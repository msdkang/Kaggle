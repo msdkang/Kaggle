{
 "cells": [
  {
   "cell_type": "code",
   "execution_count": 1,
   "id": "e5a1fd58",
   "metadata": {},
   "outputs": [],
   "source": [
    "#%pip install optuna\n",
    "#%pip install catboost"
   ]
  },
  {
   "cell_type": "code",
   "execution_count": 2,
   "id": "442a4927",
   "metadata": {
    "_cell_guid": "b1076dfc-b9ad-4769-8c92-a6c4dae69d19",
    "_uuid": "8f2839f25d086af736a60e9eeb907d3b93b6e0e5",
    "execution": {
     "iopub.execute_input": "2024-01-30T22:03:54.877986Z",
     "iopub.status.busy": "2024-01-30T22:03:54.877200Z",
     "iopub.status.idle": "2024-01-30T22:04:01.121118Z",
     "shell.execute_reply": "2024-01-30T22:04:01.120357Z"
    },
    "papermill": {
     "duration": 6.259393,
     "end_time": "2024-01-30T22:04:01.123402",
     "exception": false,
     "start_time": "2024-01-30T22:03:54.864009",
     "status": "completed"
    },
    "tags": []
   },
   "outputs": [],
   "source": [
    "import pandas as pd\n",
    "import numpy as np\n",
    "\n",
    "import matplotlib.pyplot as plt\n",
    "import seaborn as sns\n",
    "\n",
    "import xgboost\n",
    "import lightgbm\n",
    "import catboost\n",
    "\n",
    "from sklearn.preprocessing import OrdinalEncoder\n",
    "from sklearn.model_selection import StratifiedKFold\n",
    "from sklearn.metrics import roc_auc_score as auc\n",
    "from sklearn.preprocessing import MinMaxScaler,StandardScaler\n",
    "\n",
    "import optuna\n"
   ]
  },
  {
   "cell_type": "code",
   "execution_count": 3,
   "id": "ab3d60f3",
   "metadata": {
    "execution": {
     "iopub.execute_input": "2024-01-30T22:04:01.147533Z",
     "iopub.status.busy": "2024-01-30T22:04:01.147237Z",
     "iopub.status.idle": "2024-01-30T22:04:01.965910Z",
     "shell.execute_reply": "2024-01-30T22:04:01.964946Z"
    },
    "papermill": {
     "duration": 0.833155,
     "end_time": "2024-01-30T22:04:01.968211",
     "exception": false,
     "start_time": "2024-01-30T22:04:01.135056",
     "status": "completed"
    },
    "tags": []
   },
   "outputs": [],
   "source": [
    "X_train =  pd.read_csv(\"..\\\\data\\\\train.csv\")\n",
    "X_test = pd.read_csv(\"..\\\\data\\\\test.csv\")"
   ]
  },
  {
   "cell_type": "code",
   "execution_count": 4,
   "id": "a35c0599",
   "metadata": {
    "execution": {
     "iopub.execute_input": "2024-01-30T22:04:01.992606Z",
     "iopub.status.busy": "2024-01-30T22:04:01.991920Z",
     "iopub.status.idle": "2024-01-30T22:04:02.013127Z",
     "shell.execute_reply": "2024-01-30T22:04:02.012309Z"
    },
    "papermill": {
     "duration": 0.035401,
     "end_time": "2024-01-30T22:04:02.015146",
     "exception": false,
     "start_time": "2024-01-30T22:04:01.979745",
     "status": "completed"
    },
    "tags": []
   },
   "outputs": [
    {
     "data": {
      "text/html": [
       "<div>\n",
       "<style scoped>\n",
       "    .dataframe tbody tr th:only-of-type {\n",
       "        vertical-align: middle;\n",
       "    }\n",
       "\n",
       "    .dataframe tbody tr th {\n",
       "        vertical-align: top;\n",
       "    }\n",
       "\n",
       "    .dataframe thead th {\n",
       "        text-align: right;\n",
       "    }\n",
       "</style>\n",
       "<table border=\"1\" class=\"dataframe\">\n",
       "  <thead>\n",
       "    <tr style=\"text-align: right;\">\n",
       "      <th></th>\n",
       "      <th>id</th>\n",
       "      <th>CustomerId</th>\n",
       "      <th>Surname</th>\n",
       "      <th>CreditScore</th>\n",
       "      <th>Geography</th>\n",
       "      <th>Gender</th>\n",
       "      <th>Age</th>\n",
       "      <th>Tenure</th>\n",
       "      <th>Balance</th>\n",
       "      <th>NumOfProducts</th>\n",
       "      <th>HasCrCard</th>\n",
       "      <th>IsActiveMember</th>\n",
       "      <th>EstimatedSalary</th>\n",
       "      <th>Exited</th>\n",
       "    </tr>\n",
       "  </thead>\n",
       "  <tbody>\n",
       "    <tr>\n",
       "      <th>0</th>\n",
       "      <td>0</td>\n",
       "      <td>15674932</td>\n",
       "      <td>Okwudilichukwu</td>\n",
       "      <td>668</td>\n",
       "      <td>France</td>\n",
       "      <td>Male</td>\n",
       "      <td>33.0</td>\n",
       "      <td>3</td>\n",
       "      <td>0.00</td>\n",
       "      <td>2</td>\n",
       "      <td>1.0</td>\n",
       "      <td>0.0</td>\n",
       "      <td>181449.97</td>\n",
       "      <td>0</td>\n",
       "    </tr>\n",
       "    <tr>\n",
       "      <th>1</th>\n",
       "      <td>1</td>\n",
       "      <td>15749177</td>\n",
       "      <td>Okwudiliolisa</td>\n",
       "      <td>627</td>\n",
       "      <td>France</td>\n",
       "      <td>Male</td>\n",
       "      <td>33.0</td>\n",
       "      <td>1</td>\n",
       "      <td>0.00</td>\n",
       "      <td>2</td>\n",
       "      <td>1.0</td>\n",
       "      <td>1.0</td>\n",
       "      <td>49503.50</td>\n",
       "      <td>0</td>\n",
       "    </tr>\n",
       "    <tr>\n",
       "      <th>2</th>\n",
       "      <td>2</td>\n",
       "      <td>15694510</td>\n",
       "      <td>Hsueh</td>\n",
       "      <td>678</td>\n",
       "      <td>France</td>\n",
       "      <td>Male</td>\n",
       "      <td>40.0</td>\n",
       "      <td>10</td>\n",
       "      <td>0.00</td>\n",
       "      <td>2</td>\n",
       "      <td>1.0</td>\n",
       "      <td>0.0</td>\n",
       "      <td>184866.69</td>\n",
       "      <td>0</td>\n",
       "    </tr>\n",
       "    <tr>\n",
       "      <th>3</th>\n",
       "      <td>3</td>\n",
       "      <td>15741417</td>\n",
       "      <td>Kao</td>\n",
       "      <td>581</td>\n",
       "      <td>France</td>\n",
       "      <td>Male</td>\n",
       "      <td>34.0</td>\n",
       "      <td>2</td>\n",
       "      <td>148882.54</td>\n",
       "      <td>1</td>\n",
       "      <td>1.0</td>\n",
       "      <td>1.0</td>\n",
       "      <td>84560.88</td>\n",
       "      <td>0</td>\n",
       "    </tr>\n",
       "    <tr>\n",
       "      <th>4</th>\n",
       "      <td>4</td>\n",
       "      <td>15766172</td>\n",
       "      <td>Chiemenam</td>\n",
       "      <td>716</td>\n",
       "      <td>Spain</td>\n",
       "      <td>Male</td>\n",
       "      <td>33.0</td>\n",
       "      <td>5</td>\n",
       "      <td>0.00</td>\n",
       "      <td>2</td>\n",
       "      <td>1.0</td>\n",
       "      <td>1.0</td>\n",
       "      <td>15068.83</td>\n",
       "      <td>0</td>\n",
       "    </tr>\n",
       "  </tbody>\n",
       "</table>\n",
       "</div>"
      ],
      "text/plain": [
       "   id  CustomerId         Surname  CreditScore Geography Gender   Age  Tenure  \\\n",
       "0   0    15674932  Okwudilichukwu          668    France   Male  33.0       3   \n",
       "1   1    15749177   Okwudiliolisa          627    France   Male  33.0       1   \n",
       "2   2    15694510           Hsueh          678    France   Male  40.0      10   \n",
       "3   3    15741417             Kao          581    France   Male  34.0       2   \n",
       "4   4    15766172       Chiemenam          716     Spain   Male  33.0       5   \n",
       "\n",
       "     Balance  NumOfProducts  HasCrCard  IsActiveMember  EstimatedSalary  \\\n",
       "0       0.00              2        1.0             0.0        181449.97   \n",
       "1       0.00              2        1.0             1.0         49503.50   \n",
       "2       0.00              2        1.0             0.0        184866.69   \n",
       "3  148882.54              1        1.0             1.0         84560.88   \n",
       "4       0.00              2        1.0             1.0         15068.83   \n",
       "\n",
       "   Exited  \n",
       "0       0  \n",
       "1       0  \n",
       "2       0  \n",
       "3       0  \n",
       "4       0  "
      ]
     },
     "execution_count": 4,
     "metadata": {},
     "output_type": "execute_result"
    }
   ],
   "source": [
    "X_train.head()"
   ]
  },
  {
   "cell_type": "code",
   "execution_count": 5,
   "id": "2bb3c3d8",
   "metadata": {
    "execution": {
     "iopub.execute_input": "2024-01-30T22:04:02.040544Z",
     "iopub.status.busy": "2024-01-30T22:04:02.040104Z",
     "iopub.status.idle": "2024-01-30T22:04:02.055567Z",
     "shell.execute_reply": "2024-01-30T22:04:02.054774Z"
    },
    "papermill": {
     "duration": 0.030544,
     "end_time": "2024-01-30T22:04:02.057523",
     "exception": false,
     "start_time": "2024-01-30T22:04:02.026979",
     "status": "completed"
    },
    "tags": []
   },
   "outputs": [
    {
     "data": {
      "text/html": [
       "<div>\n",
       "<style scoped>\n",
       "    .dataframe tbody tr th:only-of-type {\n",
       "        vertical-align: middle;\n",
       "    }\n",
       "\n",
       "    .dataframe tbody tr th {\n",
       "        vertical-align: top;\n",
       "    }\n",
       "\n",
       "    .dataframe thead th {\n",
       "        text-align: right;\n",
       "    }\n",
       "</style>\n",
       "<table border=\"1\" class=\"dataframe\">\n",
       "  <thead>\n",
       "    <tr style=\"text-align: right;\">\n",
       "      <th></th>\n",
       "      <th>id</th>\n",
       "      <th>CustomerId</th>\n",
       "      <th>Surname</th>\n",
       "      <th>CreditScore</th>\n",
       "      <th>Geography</th>\n",
       "      <th>Gender</th>\n",
       "      <th>Age</th>\n",
       "      <th>Tenure</th>\n",
       "      <th>Balance</th>\n",
       "      <th>NumOfProducts</th>\n",
       "      <th>HasCrCard</th>\n",
       "      <th>IsActiveMember</th>\n",
       "      <th>EstimatedSalary</th>\n",
       "    </tr>\n",
       "  </thead>\n",
       "  <tbody>\n",
       "    <tr>\n",
       "      <th>0</th>\n",
       "      <td>165034</td>\n",
       "      <td>15773898</td>\n",
       "      <td>Lucchese</td>\n",
       "      <td>586</td>\n",
       "      <td>France</td>\n",
       "      <td>Female</td>\n",
       "      <td>23.0</td>\n",
       "      <td>2</td>\n",
       "      <td>0.00</td>\n",
       "      <td>2</td>\n",
       "      <td>0.0</td>\n",
       "      <td>1.0</td>\n",
       "      <td>160976.75</td>\n",
       "    </tr>\n",
       "    <tr>\n",
       "      <th>1</th>\n",
       "      <td>165035</td>\n",
       "      <td>15782418</td>\n",
       "      <td>Nott</td>\n",
       "      <td>683</td>\n",
       "      <td>France</td>\n",
       "      <td>Female</td>\n",
       "      <td>46.0</td>\n",
       "      <td>2</td>\n",
       "      <td>0.00</td>\n",
       "      <td>1</td>\n",
       "      <td>1.0</td>\n",
       "      <td>0.0</td>\n",
       "      <td>72549.27</td>\n",
       "    </tr>\n",
       "    <tr>\n",
       "      <th>2</th>\n",
       "      <td>165036</td>\n",
       "      <td>15807120</td>\n",
       "      <td>K?</td>\n",
       "      <td>656</td>\n",
       "      <td>France</td>\n",
       "      <td>Female</td>\n",
       "      <td>34.0</td>\n",
       "      <td>7</td>\n",
       "      <td>0.00</td>\n",
       "      <td>2</td>\n",
       "      <td>1.0</td>\n",
       "      <td>0.0</td>\n",
       "      <td>138882.09</td>\n",
       "    </tr>\n",
       "    <tr>\n",
       "      <th>3</th>\n",
       "      <td>165037</td>\n",
       "      <td>15808905</td>\n",
       "      <td>O'Donnell</td>\n",
       "      <td>681</td>\n",
       "      <td>France</td>\n",
       "      <td>Male</td>\n",
       "      <td>36.0</td>\n",
       "      <td>8</td>\n",
       "      <td>0.00</td>\n",
       "      <td>1</td>\n",
       "      <td>1.0</td>\n",
       "      <td>0.0</td>\n",
       "      <td>113931.57</td>\n",
       "    </tr>\n",
       "    <tr>\n",
       "      <th>4</th>\n",
       "      <td>165038</td>\n",
       "      <td>15607314</td>\n",
       "      <td>Higgins</td>\n",
       "      <td>752</td>\n",
       "      <td>Germany</td>\n",
       "      <td>Male</td>\n",
       "      <td>38.0</td>\n",
       "      <td>10</td>\n",
       "      <td>121263.62</td>\n",
       "      <td>1</td>\n",
       "      <td>1.0</td>\n",
       "      <td>0.0</td>\n",
       "      <td>139431.00</td>\n",
       "    </tr>\n",
       "  </tbody>\n",
       "</table>\n",
       "</div>"
      ],
      "text/plain": [
       "       id  CustomerId    Surname  CreditScore Geography  Gender   Age  Tenure  \\\n",
       "0  165034    15773898   Lucchese          586    France  Female  23.0       2   \n",
       "1  165035    15782418       Nott          683    France  Female  46.0       2   \n",
       "2  165036    15807120         K?          656    France  Female  34.0       7   \n",
       "3  165037    15808905  O'Donnell          681    France    Male  36.0       8   \n",
       "4  165038    15607314    Higgins          752   Germany    Male  38.0      10   \n",
       "\n",
       "     Balance  NumOfProducts  HasCrCard  IsActiveMember  EstimatedSalary  \n",
       "0       0.00              2        0.0             1.0        160976.75  \n",
       "1       0.00              1        1.0             0.0         72549.27  \n",
       "2       0.00              2        1.0             0.0        138882.09  \n",
       "3       0.00              1        1.0             0.0        113931.57  \n",
       "4  121263.62              1        1.0             0.0        139431.00  "
      ]
     },
     "execution_count": 5,
     "metadata": {},
     "output_type": "execute_result"
    }
   ],
   "source": [
    "X_test.head()"
   ]
  },
  {
   "cell_type": "code",
   "execution_count": 6,
   "id": "a41246e1",
   "metadata": {
    "execution": {
     "iopub.execute_input": "2024-01-30T22:04:02.083000Z",
     "iopub.status.busy": "2024-01-30T22:04:02.082473Z",
     "iopub.status.idle": "2024-01-30T22:04:02.103413Z",
     "shell.execute_reply": "2024-01-30T22:04:02.102602Z"
    },
    "papermill": {
     "duration": 0.035478,
     "end_time": "2024-01-30T22:04:02.105218",
     "exception": false,
     "start_time": "2024-01-30T22:04:02.069740",
     "status": "completed"
    },
    "tags": []
   },
   "outputs": [
    {
     "data": {
      "text/plain": [
       "array(['France', 'Spain', 'Germany'], dtype=object)"
      ]
     },
     "execution_count": 6,
     "metadata": {},
     "output_type": "execute_result"
    }
   ],
   "source": [
    "X_train.loc[:,'Geography'].unique()"
   ]
  },
  {
   "cell_type": "code",
   "execution_count": 7,
   "id": "7f04ae67",
   "metadata": {
    "execution": {
     "iopub.execute_input": "2024-01-30T22:04:02.130358Z",
     "iopub.status.busy": "2024-01-30T22:04:02.129873Z",
     "iopub.status.idle": "2024-01-30T22:04:02.143029Z",
     "shell.execute_reply": "2024-01-30T22:04:02.142259Z"
    },
    "papermill": {
     "duration": 0.027891,
     "end_time": "2024-01-30T22:04:02.144977",
     "exception": false,
     "start_time": "2024-01-30T22:04:02.117086",
     "status": "completed"
    },
    "tags": []
   },
   "outputs": [
    {
     "data": {
      "text/plain": [
       "array(['France', 'Germany', 'Spain'], dtype=object)"
      ]
     },
     "execution_count": 7,
     "metadata": {},
     "output_type": "execute_result"
    }
   ],
   "source": [
    "X_test.loc[:,'Geography'].unique()"
   ]
  },
  {
   "cell_type": "code",
   "execution_count": 8,
   "id": "1afa5bd9",
   "metadata": {
    "execution": {
     "iopub.execute_input": "2024-01-30T22:04:02.170204Z",
     "iopub.status.busy": "2024-01-30T22:04:02.169594Z",
     "iopub.status.idle": "2024-01-30T22:04:02.356023Z",
     "shell.execute_reply": "2024-01-30T22:04:02.355224Z"
    },
    "papermill": {
     "duration": 0.201171,
     "end_time": "2024-01-30T22:04:02.358021",
     "exception": false,
     "start_time": "2024-01-30T22:04:02.156850",
     "status": "completed"
    },
    "tags": []
   },
   "outputs": [],
   "source": [
    "X_train.loc[:,'Gender'] = X_train.loc[:,'Gender'].map(lambda x: 1 if x=='Male' else 0)\n",
    "X_test.loc[:,'Gender'] = X_test.loc[:,'Gender'].map(lambda x: 1 if x=='Male' else 0)"
   ]
  },
  {
   "cell_type": "code",
   "execution_count": 9,
   "id": "7f7cd4fa",
   "metadata": {
    "execution": {
     "iopub.execute_input": "2024-01-30T22:04:02.383253Z",
     "iopub.status.busy": "2024-01-30T22:04:02.383004Z",
     "iopub.status.idle": "2024-01-30T22:04:02.480284Z",
     "shell.execute_reply": "2024-01-30T22:04:02.479412Z"
    },
    "papermill": {
     "duration": 0.112171,
     "end_time": "2024-01-30T22:04:02.482252",
     "exception": false,
     "start_time": "2024-01-30T22:04:02.370081",
     "status": "completed"
    },
    "tags": []
   },
   "outputs": [],
   "source": [
    "OE = OrdinalEncoder()\n",
    "OE.fit(X_train.loc[:,'Geography'].values.reshape(-1,1))\n",
    "X_train.loc[:,'Geography'] = OE.transform(X_train.loc[:,'Geography'].values.reshape(-1,1))\n",
    "X_test.loc[:,'Geography'] = OE.transform(X_test.loc[:,'Geography'].values.reshape(-1,1))"
   ]
  },
  {
   "cell_type": "code",
   "execution_count": 10,
   "id": "3303c0ef",
   "metadata": {
    "execution": {
     "iopub.execute_input": "2024-01-30T22:04:02.508197Z",
     "iopub.status.busy": "2024-01-30T22:04:02.507614Z",
     "iopub.status.idle": "2024-01-30T22:04:02.524520Z",
     "shell.execute_reply": "2024-01-30T22:04:02.523660Z"
    },
    "papermill": {
     "duration": 0.032092,
     "end_time": "2024-01-30T22:04:02.526603",
     "exception": false,
     "start_time": "2024-01-30T22:04:02.494511",
     "status": "completed"
    },
    "tags": []
   },
   "outputs": [
    {
     "data": {
      "text/html": [
       "<div>\n",
       "<style scoped>\n",
       "    .dataframe tbody tr th:only-of-type {\n",
       "        vertical-align: middle;\n",
       "    }\n",
       "\n",
       "    .dataframe tbody tr th {\n",
       "        vertical-align: top;\n",
       "    }\n",
       "\n",
       "    .dataframe thead th {\n",
       "        text-align: right;\n",
       "    }\n",
       "</style>\n",
       "<table border=\"1\" class=\"dataframe\">\n",
       "  <thead>\n",
       "    <tr style=\"text-align: right;\">\n",
       "      <th></th>\n",
       "      <th>id</th>\n",
       "      <th>CustomerId</th>\n",
       "      <th>Surname</th>\n",
       "      <th>CreditScore</th>\n",
       "      <th>Geography</th>\n",
       "      <th>Gender</th>\n",
       "      <th>Age</th>\n",
       "      <th>Tenure</th>\n",
       "      <th>Balance</th>\n",
       "      <th>NumOfProducts</th>\n",
       "      <th>HasCrCard</th>\n",
       "      <th>IsActiveMember</th>\n",
       "      <th>EstimatedSalary</th>\n",
       "      <th>Exited</th>\n",
       "    </tr>\n",
       "  </thead>\n",
       "  <tbody>\n",
       "    <tr>\n",
       "      <th>0</th>\n",
       "      <td>0</td>\n",
       "      <td>15674932</td>\n",
       "      <td>Okwudilichukwu</td>\n",
       "      <td>668</td>\n",
       "      <td>0.0</td>\n",
       "      <td>1</td>\n",
       "      <td>33.0</td>\n",
       "      <td>3</td>\n",
       "      <td>0.00</td>\n",
       "      <td>2</td>\n",
       "      <td>1.0</td>\n",
       "      <td>0.0</td>\n",
       "      <td>181449.97</td>\n",
       "      <td>0</td>\n",
       "    </tr>\n",
       "    <tr>\n",
       "      <th>1</th>\n",
       "      <td>1</td>\n",
       "      <td>15749177</td>\n",
       "      <td>Okwudiliolisa</td>\n",
       "      <td>627</td>\n",
       "      <td>0.0</td>\n",
       "      <td>1</td>\n",
       "      <td>33.0</td>\n",
       "      <td>1</td>\n",
       "      <td>0.00</td>\n",
       "      <td>2</td>\n",
       "      <td>1.0</td>\n",
       "      <td>1.0</td>\n",
       "      <td>49503.50</td>\n",
       "      <td>0</td>\n",
       "    </tr>\n",
       "    <tr>\n",
       "      <th>2</th>\n",
       "      <td>2</td>\n",
       "      <td>15694510</td>\n",
       "      <td>Hsueh</td>\n",
       "      <td>678</td>\n",
       "      <td>0.0</td>\n",
       "      <td>1</td>\n",
       "      <td>40.0</td>\n",
       "      <td>10</td>\n",
       "      <td>0.00</td>\n",
       "      <td>2</td>\n",
       "      <td>1.0</td>\n",
       "      <td>0.0</td>\n",
       "      <td>184866.69</td>\n",
       "      <td>0</td>\n",
       "    </tr>\n",
       "    <tr>\n",
       "      <th>3</th>\n",
       "      <td>3</td>\n",
       "      <td>15741417</td>\n",
       "      <td>Kao</td>\n",
       "      <td>581</td>\n",
       "      <td>0.0</td>\n",
       "      <td>1</td>\n",
       "      <td>34.0</td>\n",
       "      <td>2</td>\n",
       "      <td>148882.54</td>\n",
       "      <td>1</td>\n",
       "      <td>1.0</td>\n",
       "      <td>1.0</td>\n",
       "      <td>84560.88</td>\n",
       "      <td>0</td>\n",
       "    </tr>\n",
       "    <tr>\n",
       "      <th>4</th>\n",
       "      <td>4</td>\n",
       "      <td>15766172</td>\n",
       "      <td>Chiemenam</td>\n",
       "      <td>716</td>\n",
       "      <td>2.0</td>\n",
       "      <td>1</td>\n",
       "      <td>33.0</td>\n",
       "      <td>5</td>\n",
       "      <td>0.00</td>\n",
       "      <td>2</td>\n",
       "      <td>1.0</td>\n",
       "      <td>1.0</td>\n",
       "      <td>15068.83</td>\n",
       "      <td>0</td>\n",
       "    </tr>\n",
       "  </tbody>\n",
       "</table>\n",
       "</div>"
      ],
      "text/plain": [
       "   id  CustomerId         Surname  CreditScore  Geography  Gender   Age  \\\n",
       "0   0    15674932  Okwudilichukwu          668        0.0       1  33.0   \n",
       "1   1    15749177   Okwudiliolisa          627        0.0       1  33.0   \n",
       "2   2    15694510           Hsueh          678        0.0       1  40.0   \n",
       "3   3    15741417             Kao          581        0.0       1  34.0   \n",
       "4   4    15766172       Chiemenam          716        2.0       1  33.0   \n",
       "\n",
       "   Tenure    Balance  NumOfProducts  HasCrCard  IsActiveMember  \\\n",
       "0       3       0.00              2        1.0             0.0   \n",
       "1       1       0.00              2        1.0             1.0   \n",
       "2      10       0.00              2        1.0             0.0   \n",
       "3       2  148882.54              1        1.0             1.0   \n",
       "4       5       0.00              2        1.0             1.0   \n",
       "\n",
       "   EstimatedSalary  Exited  \n",
       "0        181449.97       0  \n",
       "1         49503.50       0  \n",
       "2        184866.69       0  \n",
       "3         84560.88       0  \n",
       "4         15068.83       0  "
      ]
     },
     "execution_count": 10,
     "metadata": {},
     "output_type": "execute_result"
    }
   ],
   "source": [
    "X_train.head()"
   ]
  },
  {
   "cell_type": "code",
   "execution_count": 11,
   "id": "e5ce430f",
   "metadata": {
    "execution": {
     "iopub.execute_input": "2024-01-30T22:04:02.552366Z",
     "iopub.status.busy": "2024-01-30T22:04:02.551899Z",
     "iopub.status.idle": "2024-01-30T22:04:02.606609Z",
     "shell.execute_reply": "2024-01-30T22:04:02.605927Z"
    },
    "papermill": {
     "duration": 0.069649,
     "end_time": "2024-01-30T22:04:02.608504",
     "exception": false,
     "start_time": "2024-01-30T22:04:02.538855",
     "status": "completed"
    },
    "tags": []
   },
   "outputs": [],
   "source": [
    "convert_dict = {'Geography': int,\n",
    "                'Gender': int\n",
    "                }\n",
    " \n",
    "X_train = X_train.astype(convert_dict)\n",
    "X_test = X_test.astype(convert_dict)"
   ]
  },
  {
   "cell_type": "code",
   "execution_count": 12,
   "id": "e12d00e7",
   "metadata": {
    "execution": {
     "iopub.execute_input": "2024-01-30T22:04:02.634366Z",
     "iopub.status.busy": "2024-01-30T22:04:02.634101Z",
     "iopub.status.idle": "2024-01-30T22:04:02.751606Z",
     "shell.execute_reply": "2024-01-30T22:04:02.750527Z"
    },
    "papermill": {
     "duration": 0.133053,
     "end_time": "2024-01-30T22:04:02.754042",
     "exception": false,
     "start_time": "2024-01-30T22:04:02.620989",
     "status": "completed"
    },
    "tags": []
   },
   "outputs": [],
   "source": [
    "x_train = X_train.drop_duplicates()\n",
    "X_train = X_train.reset_index(drop=True)"
   ]
  },
  {
   "cell_type": "code",
   "execution_count": 13,
   "id": "f537b7ea",
   "metadata": {
    "execution": {
     "iopub.execute_input": "2024-01-30T22:04:02.781203Z",
     "iopub.status.busy": "2024-01-30T22:04:02.780875Z",
     "iopub.status.idle": "2024-01-30T22:04:02.846351Z",
     "shell.execute_reply": "2024-01-30T22:04:02.845295Z"
    },
    "papermill": {
     "duration": 0.081616,
     "end_time": "2024-01-30T22:04:02.848571",
     "exception": false,
     "start_time": "2024-01-30T22:04:02.766955",
     "status": "completed"
    },
    "tags": []
   },
   "outputs": [
    {
     "name": "stdout",
     "output_type": "stream",
     "text": [
      "Duplicates in Train Dataset:  0\n"
     ]
    }
   ],
   "source": [
    "print(\"Duplicates in Train Dataset: \",X_train.duplicated().sum())"
   ]
  },
  {
   "cell_type": "code",
   "execution_count": 14,
   "id": "4b690ef0",
   "metadata": {
    "execution": {
     "iopub.execute_input": "2024-01-30T22:04:02.876963Z",
     "iopub.status.busy": "2024-01-30T22:04:02.876642Z",
     "iopub.status.idle": "2024-01-30T22:04:03.089267Z",
     "shell.execute_reply": "2024-01-30T22:04:03.088339Z"
    },
    "papermill": {
     "duration": 0.229153,
     "end_time": "2024-01-30T22:04:03.091618",
     "exception": false,
     "start_time": "2024-01-30T22:04:02.862465",
     "status": "completed"
    },
    "tags": []
   },
   "outputs": [],
   "source": [
    "X_train.loc[:,'IsSenior'] = X_train.loc[:,'Age'].apply(lambda x: 1 if x >= 60 else 0)\n",
    "X_train.loc[:,'IsActive_by_CreditCard'] = X_train.loc[:, 'HasCrCard'] * X_train.loc[:,'IsActiveMember']\n",
    "X_train.loc[:,'Products_Per_Tenure'] =  X_train.loc[:,'Tenure'] / X_train.loc[:,'NumOfProducts']\n",
    "\n",
    "X_test.loc[:,'IsSenior'] = X_test.loc[:,'Age'].apply(lambda x: 1 if x >= 60 else 0)\n",
    "X_test.loc[:,'IsActive_by_CreditCard'] = X_test.loc[:, 'HasCrCard'] * X_test.loc[:,'IsActiveMember']\n",
    "X_test.loc[:,'Products_Per_Tenure'] =  X_test.loc[:,'Tenure'] / X_test.loc[:, 'NumOfProducts']"
   ]
  },
  {
   "cell_type": "code",
   "execution_count": 15,
   "id": "f4e9d138",
   "metadata": {
    "execution": {
     "iopub.execute_input": "2024-01-30T22:04:03.118118Z",
     "iopub.status.busy": "2024-01-30T22:04:03.117412Z",
     "iopub.status.idle": "2024-01-30T22:04:03.270788Z",
     "shell.execute_reply": "2024-01-30T22:04:03.269885Z"
    },
    "papermill": {
     "duration": 0.168631,
     "end_time": "2024-01-30T22:04:03.272880",
     "exception": false,
     "start_time": "2024-01-30T22:04:03.104249",
     "status": "completed"
    },
    "tags": []
   },
   "outputs": [],
   "source": [
    "X_train.loc[:,'Surname_len'] = X_train.loc[:,'Surname'].apply(len)\n",
    "X_test.loc[:,'Surname_len'] = X_test.loc[:,'Surname'].apply(len)"
   ]
  },
  {
   "cell_type": "code",
   "execution_count": 16,
   "id": "ea9b4177",
   "metadata": {
    "execution": {
     "iopub.execute_input": "2024-01-30T22:04:03.298858Z",
     "iopub.status.busy": "2024-01-30T22:04:03.298342Z",
     "iopub.status.idle": "2024-01-30T22:04:03.302617Z",
     "shell.execute_reply": "2024-01-30T22:04:03.301815Z"
    },
    "papermill": {
     "duration": 0.019157,
     "end_time": "2024-01-30T22:04:03.304571",
     "exception": false,
     "start_time": "2024-01-30T22:04:03.285414",
     "status": "completed"
    },
    "tags": []
   },
   "outputs": [],
   "source": [
    "# features = ['CreditScore', 'Geography', \"Gender\", \"Age\" , \"Tenure\" , \"Balance\", \"NumOfProducts\", \"HasCrCard\", \"IsActiveMember\", 'EstimatedSalary']\n",
    "features = ['CreditScore', 'Geography', \"Gender\", \"Age\" , \"Tenure\" , \"NumOfProducts\", \"HasCrCard\", \"IsActiveMember\", 'EstimatedSalary', \"IsSenior\",\"IsActive_by_CreditCard\" , \"Products_Per_Tenure\", 'Surname_len']"
   ]
  },
  {
   "cell_type": "code",
   "execution_count": 17,
   "id": "06eb7420",
   "metadata": {
    "execution": {
     "iopub.execute_input": "2024-01-30T22:04:03.330514Z",
     "iopub.status.busy": "2024-01-30T22:04:03.329803Z",
     "iopub.status.idle": "2024-01-30T22:04:03.355490Z",
     "shell.execute_reply": "2024-01-30T22:04:03.354591Z"
    },
    "papermill": {
     "duration": 0.040704,
     "end_time": "2024-01-30T22:04:03.357592",
     "exception": false,
     "start_time": "2024-01-30T22:04:03.316888",
     "status": "completed"
    },
    "tags": []
   },
   "outputs": [
    {
     "data": {
      "text/plain": [
       "id                        0\n",
       "CustomerId                0\n",
       "Surname                   0\n",
       "CreditScore               0\n",
       "Geography                 0\n",
       "Gender                    0\n",
       "Age                       0\n",
       "Tenure                    0\n",
       "Balance                   0\n",
       "NumOfProducts             0\n",
       "HasCrCard                 0\n",
       "IsActiveMember            0\n",
       "EstimatedSalary           0\n",
       "Exited                    0\n",
       "IsSenior                  0\n",
       "IsActive_by_CreditCard    0\n",
       "Products_Per_Tenure       0\n",
       "Surname_len               0\n",
       "dtype: int64"
      ]
     },
     "execution_count": 17,
     "metadata": {},
     "output_type": "execute_result"
    }
   ],
   "source": [
    "X_train.isnull().sum(axis=0)"
   ]
  },
  {
   "cell_type": "code",
   "execution_count": 18,
   "id": "e12b432d",
   "metadata": {
    "execution": {
     "iopub.execute_input": "2024-01-30T22:04:03.384393Z",
     "iopub.status.busy": "2024-01-30T22:04:03.383865Z",
     "iopub.status.idle": "2024-01-30T22:04:03.402163Z",
     "shell.execute_reply": "2024-01-30T22:04:03.401407Z"
    },
    "papermill": {
     "duration": 0.033438,
     "end_time": "2024-01-30T22:04:03.404037",
     "exception": false,
     "start_time": "2024-01-30T22:04:03.370599",
     "status": "completed"
    },
    "tags": []
   },
   "outputs": [
    {
     "data": {
      "text/html": [
       "<div>\n",
       "<style scoped>\n",
       "    .dataframe tbody tr th:only-of-type {\n",
       "        vertical-align: middle;\n",
       "    }\n",
       "\n",
       "    .dataframe tbody tr th {\n",
       "        vertical-align: top;\n",
       "    }\n",
       "\n",
       "    .dataframe thead th {\n",
       "        text-align: right;\n",
       "    }\n",
       "</style>\n",
       "<table border=\"1\" class=\"dataframe\">\n",
       "  <thead>\n",
       "    <tr style=\"text-align: right;\">\n",
       "      <th></th>\n",
       "      <th>id</th>\n",
       "      <th>CustomerId</th>\n",
       "      <th>Surname</th>\n",
       "      <th>CreditScore</th>\n",
       "      <th>Geography</th>\n",
       "      <th>Gender</th>\n",
       "      <th>Age</th>\n",
       "      <th>Tenure</th>\n",
       "      <th>Balance</th>\n",
       "      <th>NumOfProducts</th>\n",
       "      <th>HasCrCard</th>\n",
       "      <th>IsActiveMember</th>\n",
       "      <th>EstimatedSalary</th>\n",
       "      <th>Exited</th>\n",
       "      <th>IsSenior</th>\n",
       "      <th>IsActive_by_CreditCard</th>\n",
       "      <th>Products_Per_Tenure</th>\n",
       "      <th>Surname_len</th>\n",
       "    </tr>\n",
       "  </thead>\n",
       "  <tbody>\n",
       "    <tr>\n",
       "      <th>0</th>\n",
       "      <td>0</td>\n",
       "      <td>15674932</td>\n",
       "      <td>Okwudilichukwu</td>\n",
       "      <td>668</td>\n",
       "      <td>0</td>\n",
       "      <td>1</td>\n",
       "      <td>33.0</td>\n",
       "      <td>3</td>\n",
       "      <td>0.00</td>\n",
       "      <td>2</td>\n",
       "      <td>1.0</td>\n",
       "      <td>0.0</td>\n",
       "      <td>181449.97</td>\n",
       "      <td>0</td>\n",
       "      <td>0</td>\n",
       "      <td>0.0</td>\n",
       "      <td>1.5</td>\n",
       "      <td>14</td>\n",
       "    </tr>\n",
       "    <tr>\n",
       "      <th>1</th>\n",
       "      <td>1</td>\n",
       "      <td>15749177</td>\n",
       "      <td>Okwudiliolisa</td>\n",
       "      <td>627</td>\n",
       "      <td>0</td>\n",
       "      <td>1</td>\n",
       "      <td>33.0</td>\n",
       "      <td>1</td>\n",
       "      <td>0.00</td>\n",
       "      <td>2</td>\n",
       "      <td>1.0</td>\n",
       "      <td>1.0</td>\n",
       "      <td>49503.50</td>\n",
       "      <td>0</td>\n",
       "      <td>0</td>\n",
       "      <td>1.0</td>\n",
       "      <td>0.5</td>\n",
       "      <td>13</td>\n",
       "    </tr>\n",
       "    <tr>\n",
       "      <th>2</th>\n",
       "      <td>2</td>\n",
       "      <td>15694510</td>\n",
       "      <td>Hsueh</td>\n",
       "      <td>678</td>\n",
       "      <td>0</td>\n",
       "      <td>1</td>\n",
       "      <td>40.0</td>\n",
       "      <td>10</td>\n",
       "      <td>0.00</td>\n",
       "      <td>2</td>\n",
       "      <td>1.0</td>\n",
       "      <td>0.0</td>\n",
       "      <td>184866.69</td>\n",
       "      <td>0</td>\n",
       "      <td>0</td>\n",
       "      <td>0.0</td>\n",
       "      <td>5.0</td>\n",
       "      <td>5</td>\n",
       "    </tr>\n",
       "    <tr>\n",
       "      <th>3</th>\n",
       "      <td>3</td>\n",
       "      <td>15741417</td>\n",
       "      <td>Kao</td>\n",
       "      <td>581</td>\n",
       "      <td>0</td>\n",
       "      <td>1</td>\n",
       "      <td>34.0</td>\n",
       "      <td>2</td>\n",
       "      <td>148882.54</td>\n",
       "      <td>1</td>\n",
       "      <td>1.0</td>\n",
       "      <td>1.0</td>\n",
       "      <td>84560.88</td>\n",
       "      <td>0</td>\n",
       "      <td>0</td>\n",
       "      <td>1.0</td>\n",
       "      <td>2.0</td>\n",
       "      <td>3</td>\n",
       "    </tr>\n",
       "    <tr>\n",
       "      <th>4</th>\n",
       "      <td>4</td>\n",
       "      <td>15766172</td>\n",
       "      <td>Chiemenam</td>\n",
       "      <td>716</td>\n",
       "      <td>2</td>\n",
       "      <td>1</td>\n",
       "      <td>33.0</td>\n",
       "      <td>5</td>\n",
       "      <td>0.00</td>\n",
       "      <td>2</td>\n",
       "      <td>1.0</td>\n",
       "      <td>1.0</td>\n",
       "      <td>15068.83</td>\n",
       "      <td>0</td>\n",
       "      <td>0</td>\n",
       "      <td>1.0</td>\n",
       "      <td>2.5</td>\n",
       "      <td>9</td>\n",
       "    </tr>\n",
       "  </tbody>\n",
       "</table>\n",
       "</div>"
      ],
      "text/plain": [
       "   id  CustomerId         Surname  CreditScore  Geography  Gender   Age  \\\n",
       "0   0    15674932  Okwudilichukwu          668          0       1  33.0   \n",
       "1   1    15749177   Okwudiliolisa          627          0       1  33.0   \n",
       "2   2    15694510           Hsueh          678          0       1  40.0   \n",
       "3   3    15741417             Kao          581          0       1  34.0   \n",
       "4   4    15766172       Chiemenam          716          2       1  33.0   \n",
       "\n",
       "   Tenure    Balance  NumOfProducts  HasCrCard  IsActiveMember  \\\n",
       "0       3       0.00              2        1.0             0.0   \n",
       "1       1       0.00              2        1.0             1.0   \n",
       "2      10       0.00              2        1.0             0.0   \n",
       "3       2  148882.54              1        1.0             1.0   \n",
       "4       5       0.00              2        1.0             1.0   \n",
       "\n",
       "   EstimatedSalary  Exited  IsSenior  IsActive_by_CreditCard  \\\n",
       "0        181449.97       0         0                     0.0   \n",
       "1         49503.50       0         0                     1.0   \n",
       "2        184866.69       0         0                     0.0   \n",
       "3         84560.88       0         0                     1.0   \n",
       "4         15068.83       0         0                     1.0   \n",
       "\n",
       "   Products_Per_Tenure  Surname_len  \n",
       "0                  1.5           14  \n",
       "1                  0.5           13  \n",
       "2                  5.0            5  \n",
       "3                  2.0            3  \n",
       "4                  2.5            9  "
      ]
     },
     "execution_count": 18,
     "metadata": {},
     "output_type": "execute_result"
    }
   ],
   "source": [
    "X_train.head()"
   ]
  },
  {
   "cell_type": "code",
   "execution_count": 19,
   "id": "824ece0b",
   "metadata": {
    "execution": {
     "iopub.execute_input": "2024-01-30T22:04:03.430454Z",
     "iopub.status.busy": "2024-01-30T22:04:03.430181Z",
     "iopub.status.idle": "2024-01-30T22:04:04.412658Z",
     "shell.execute_reply": "2024-01-30T22:04:04.411776Z"
    },
    "papermill": {
     "duration": 0.998067,
     "end_time": "2024-01-30T22:04:04.414870",
     "exception": false,
     "start_time": "2024-01-30T22:04:03.416803",
     "status": "completed"
    },
    "tags": []
   },
   "outputs": [
    {
     "data": {
      "image/png": "[encoded data removed]",
      "text/plain": [
       "<Figure size 432x288 with 1 Axes>"
      ]
     },
     "metadata": {
      "needs_background": "light"
     },
     "output_type": "display_data"
    }
   ],
   "source": [
    "sns.kdeplot(data=X_train, x='Age', fill=True, hue='Exited' )\n",
    "plt.show()"
   ]
  },
  {
   "cell_type": "code",
   "execution_count": 19,
   "id": "f2cdc62e",
   "metadata": {
    "execution": {
     "iopub.execute_input": "2024-01-30T22:04:04.444361Z",
     "iopub.status.busy": "2024-01-30T22:04:04.443295Z",
     "iopub.status.idle": "2024-01-30T22:04:05.295649Z",
     "shell.execute_reply": "2024-01-30T22:04:05.294738Z"
    },
    "papermill": {
     "duration": 0.869071,
     "end_time": "2024-01-30T22:04:05.297827",
     "exception": false,
     "start_time": "2024-01-30T22:04:04.428756",
     "status": "completed"
    },
    "tags": []
   },
   "outputs": [
    {
     "data": {
      "image/png": "[encoded data removed]",
      "text/plain": [
       "<Figure size 432x288 with 1 Axes>"
      ]
     },
     "metadata": {
      "needs_background": "light"
     },
     "output_type": "display_data"
    }
   ],
   "source": [
    "sns.kdeplot(data=X_train, x='EstimatedSalary', fill=True, hue='Exited' )\n",
    "plt.show()"
   ]
  },
  {
   "cell_type": "code",
   "execution_count": 20,
   "id": "57d689f4",
   "metadata": {
    "execution": {
     "iopub.execute_input": "2024-01-30T22:04:05.327026Z",
     "iopub.status.busy": "2024-01-30T22:04:05.326735Z",
     "iopub.status.idle": "2024-01-30T22:04:06.232237Z",
     "shell.execute_reply": "2024-01-30T22:04:06.231410Z"
    },
    "papermill": {
     "duration": 0.922442,
     "end_time": "2024-01-30T22:04:06.234368",
     "exception": false,
     "start_time": "2024-01-30T22:04:05.311926",
     "status": "completed"
    },
    "tags": []
   },
   "outputs": [
    {
     "data": {
      "image/png": "[encoded data removed]",
      "text/plain": [
       "<Figure size 432x288 with 1 Axes>"
      ]
     },
     "metadata": {
      "needs_background": "light"
     },
     "output_type": "display_data"
    }
   ],
   "source": [
    "sns.kdeplot(data=X_train, x='Balance', fill=True, hue='Exited' )\n",
    "plt.show()"
   ]
  },
  {
   "cell_type": "code",
   "execution_count": 21,
   "id": "49acde0d",
   "metadata": {
    "execution": {
     "iopub.execute_input": "2024-01-30T22:04:06.267222Z",
     "iopub.status.busy": "2024-01-30T22:04:06.266645Z",
     "iopub.status.idle": "2024-01-30T22:04:06.301120Z",
     "shell.execute_reply": "2024-01-30T22:04:06.300205Z"
    },
    "papermill": {
     "duration": 0.053911,
     "end_time": "2024-01-30T22:04:06.303308",
     "exception": false,
     "start_time": "2024-01-30T22:04:06.249397",
     "status": "completed"
    },
    "tags": []
   },
   "outputs": [
    {
     "name": "stdout",
     "output_type": "stream",
     "text": [
      "Balance==0 %: 0.5432092780881516\n",
      "Balance==0 and Exited==0 : 0.161654470819204\n",
      "Balance~=0 and Exited==0 : 0.27099196137213805\n"
     ]
    }
   ],
   "source": [
    "print(f\"Balance==0 %: {X_train.loc[X_train['Balance']==0,:].shape[0]/X_train.shape[0]}\")\n",
    "print(f\"Balance==0 and Exited==0 : {X_train.loc[(X_train['Balance']==0) & (X_train['Exited']==1),:].shape[0]/X_train.loc[X_train['Balance']==0,:].shape[0]}\")\n",
    "print(f\"Balance~=0 and Exited==0 : {X_train.loc[(X_train['Balance']!=0) & (X_train['Exited']==1),:].shape[0]/X_train.loc[X_train['Balance']!=0,:].shape[0]}\")"
   ]
  },
  {
   "cell_type": "code",
   "execution_count": 22,
   "id": "831d055d",
   "metadata": {
    "execution": {
     "iopub.execute_input": "2024-01-30T22:04:06.334318Z",
     "iopub.status.busy": "2024-01-30T22:04:06.333753Z",
     "iopub.status.idle": "2024-01-30T22:04:06.361516Z",
     "shell.execute_reply": "2024-01-30T22:04:06.360682Z"
    },
    "papermill": {
     "duration": 0.045117,
     "end_time": "2024-01-30T22:04:06.363363",
     "exception": false,
     "start_time": "2024-01-30T22:04:06.318246",
     "status": "completed"
    },
    "tags": []
   },
   "outputs": [
    {
     "name": "stdout",
     "output_type": "stream",
     "text": [
      "92\n"
     ]
    }
   ],
   "source": [
    "L2=list(set(X_test.Surname.unique())-set(X_train.Surname.unique()))\n",
    "print(len(L2))"
   ]
  },
  {
   "cell_type": "code",
   "execution_count": 25,
   "id": "adb05b9a",
   "metadata": {
    "execution": {
     "iopub.execute_input": "2024-01-30T22:04:06.394100Z",
     "iopub.status.busy": "2024-01-30T22:04:06.393565Z",
     "iopub.status.idle": "2024-01-30T22:04:11.184769Z",
     "shell.execute_reply": "2024-01-30T22:04:11.183844Z"
    },
    "papermill": {
     "duration": 4.809903,
     "end_time": "2024-01-30T22:04:11.188196",
     "exception": false,
     "start_time": "2024-01-30T22:04:06.378293",
     "status": "completed"
    },
    "tags": []
   },
   "outputs": [
    {
     "data": {
      "image/png": "[encoded data removed]",
      "text/plain": [
       "<Figure size 432x288 with 1 Axes>"
      ]
     },
     "metadata": {
      "needs_background": "light"
     },
     "output_type": "display_data"
    },
    {
     "data": {
      "image/png": "[encoded data removed]",
      "text/plain": [
       "<Figure size 432x288 with 1 Axes>"
      ]
     },
     "metadata": {
      "needs_background": "light"
     },
     "output_type": "display_data"
    },
    {
     "data": {
      "image/png": "[encoded data removed]",
      "text/plain": [
       "<Figure size 432x288 with 1 Axes>"
      ]
     },
     "metadata": {
      "needs_background": "light"
     },
     "output_type": "display_data"
    },
    {
     "data": {
      "image/png": "[encoded data removed]",
      "text/plain": [
       "<Figure size 432x288 with 1 Axes>"
      ]
     },
     "metadata": {
      "needs_background": "light"
     },
     "output_type": "display_data"
    },
    {
     "data": {
      "image/png": "[encoded data removed]",
      "text/plain": [
       "<Figure size 432x288 with 1 Axes>"
      ]
     },
     "metadata": {
      "needs_background": "light"
     },
     "output_type": "display_data"
    }
   ],
   "source": [
    "sns.scatterplot(data=X_train, x='Balance', y=\"Age\",hue='Exited')\n",
    "plt.show()\n",
    "sns.scatterplot(data=X_train, x='NumOfProducts', y=\"Age\",hue='Exited')\n",
    "plt.show()\n",
    "sns.scatterplot(data=X_train, x='Tenure', y=\"NumOfProducts\",hue='Exited')\n",
    "plt.show()\n",
    "sns.scatterplot(data=X_train, x='CreditScore', y=\"NumOfProducts\",hue='Exited')\n",
    "plt.show()\n",
    "sns.scatterplot(data=X_train, x='Age', y=\"Geography\",hue='Exited')\n",
    "plt.show()"
   ]
  },
  {
   "cell_type": "code",
   "execution_count": 26,
   "id": "3895873a",
   "metadata": {
    "execution": {
     "iopub.execute_input": "2024-01-30T22:04:11.224300Z",
     "iopub.status.busy": "2024-01-30T22:04:11.223998Z",
     "iopub.status.idle": "2024-01-30T22:04:11.276997Z",
     "shell.execute_reply": "2024-01-30T22:04:11.276049Z"
    },
    "papermill": {
     "duration": 0.073184,
     "end_time": "2024-01-30T22:04:11.278923",
     "exception": false,
     "start_time": "2024-01-30T22:04:11.205739",
     "status": "completed"
    },
    "tags": []
   },
   "outputs": [
    {
     "name": "stdout",
     "output_type": "stream",
     "text": [
      "Fold 0...\n",
      "Fold 1...\n",
      "Fold 2...\n",
      "Fold 3...\n",
      "Fold 4...\n"
     ]
    }
   ],
   "source": [
    "# Stritified Cross Validation by 5 Folds using day of week as a target\n",
    "\n",
    "KFOLD = 5\n",
    "X_train.loc[:, 'fold'] = 0\n",
    "skf = StratifiedKFold(n_splits = KFOLD, random_state=42, shuffle=True)\n",
    "for fold, (tr_idx, val_idx) in enumerate(skf.split(X_train.loc[:, features], X_train.loc[:, 'Exited'])) :\n",
    "    print(f\"Fold {fold}...\")\n",
    "    X_train.loc[val_idx,'fold'] = fold\n"
   ]
  },
  {
   "cell_type": "code",
   "execution_count": 37,
   "id": "b772cd5b",
   "metadata": {
    "execution": {
     "iopub.execute_input": "2024-01-30T22:04:11.316452Z",
     "iopub.status.busy": "2024-01-30T22:04:11.316130Z",
     "iopub.status.idle": "2024-01-30T22:04:11.357045Z",
     "shell.execute_reply": "2024-01-30T22:04:11.356209Z"
    },
    "papermill": {
     "duration": 0.061831,
     "end_time": "2024-01-30T22:04:11.358954",
     "exception": false,
     "start_time": "2024-01-30T22:04:11.297123",
     "status": "completed"
    },
    "tags": []
   },
   "outputs": [],
   "source": [
    "from sklearn.ensemble import RandomForestClassifier\n",
    "\n",
    "SCALER=False\n",
    "scaler_type='mm'\n",
    "\n",
    "class TrainModel:\n",
    "    \n",
    "    def __init__(self, X_train, X_test, MODEL, features):\n",
    "        self.X_train = X_train\n",
    "        self.X_test = X_test\n",
    "        self.MODEL = MODEL\n",
    "        self.features = features\n",
    "        self.selected_features = features.copy()\n",
    "        self.param = None\n",
    "        self.model=None\n",
    "        self.new_train = X_train.copy()\n",
    "        self.auc_OOF= None\n",
    "        self.auc_test = None\n",
    "        \n",
    "    def reset_features(self):\n",
    "        self.selected_features = self.features.copy()\n",
    "    def reset_data(self):\n",
    "        self.new_train = X_train.copy()\n",
    "        self.X_test = X_test\n",
    "    \n",
    "    def update_features(self, f_to_eliminate):\n",
    "        for f in f_to_eliminate:\n",
    "            self.selected_features.remove(f)\n",
    "    def model_scaler(self,scaler_type):\n",
    "        data = self.new_train.loc[:, self.selected_features]\n",
    "        if scaler_type=='mm':\n",
    "            scaler = MinMaxScaler()\n",
    "        if scaler_type =='ss':\n",
    "            scaler=StandardScaler()\n",
    "            \n",
    "        scaler.fit(data)\n",
    "        self.new_train.loc[:, self.selected_features] = scaler.transform(self.new_train.loc[:, self.selected_features])\n",
    "        self.X_test.loc[:, self.selected_features] = scaler.transform(self.X_test.loc[:, self.selected_features])\n",
    "        \n",
    "    def get_model(self,param):\n",
    "        if self.MODEL=='rf':\n",
    "\n",
    "            rf = RandomForestClassifier().set_params(**param)\n",
    "            return rf\n",
    "        if self.MODEL=='xgb':\n",
    "            xgb = xgboost.XGBClassifier(**param)\n",
    "            return xgb\n",
    "\n",
    "        if self.MODEL=='lgbm':\n",
    "            lgb = lightgbm.LGBMClassifier(**param)\n",
    "            return lgb\n",
    "        if self.MODEL=='cat':\n",
    "            cat = catboost.CatBoostClassifier().set_params(**param)\n",
    "            return cat\n",
    "    \n",
    "    def model_train(self, PRINT,SCALER):\n",
    "        TEST_PRED = []\n",
    "        param = self.param\n",
    "        if SCALER:\n",
    "            self.model_scaler(scaler_type)\n",
    "        for fold in range(KFOLD):\n",
    "            if PRINT:\n",
    "                print(f\"fold: {fold}.........\")\n",
    "            X = self.new_train.loc[self.new_train.fold!=fold, self.selected_features]\n",
    "            y = self.new_train.loc[self.new_train.fold!=fold, 'Exited']\n",
    "\n",
    "            X_val = self.new_train.loc[self.new_train.fold==fold, self.selected_features]\n",
    "            y_val = self.new_train.loc[self.new_train.fold==fold,'Exited']\n",
    "            if PRINT:\n",
    "                print('Load model.....')\n",
    "            model = self.get_model(param)\n",
    "            if PRINT:\n",
    "                print('model fitting......')\n",
    "            model.fit(X,y)\n",
    "            train_pred = model.predict_proba(X)[:,1]\n",
    "            \n",
    "            val_pred = model.predict_proba(X_val)[:,1]\n",
    "            \n",
    "            self.new_train.loc[self.new_train.fold==fold, 'pred'] = val_pred\n",
    "#             self.new_train.loc[(self.new_train.fold==fold) & (self.new_train.status==0), 'pred'] = 1-self.new_train.loc[(self.new_train.fold==fold) & (self.new_train.status==0), 'pred']\n",
    "            test_pp = model.predict_proba(self.X_test.loc[:, self.selected_features])[:,1]\n",
    "#             test_pp[self.X_test.status==0]=1-test_pp[self.X_test.status==0]\n",
    "            TEST_PRED.append(test_pp)\n",
    "            if PRINT:\n",
    "                print(f\"training auc score: {auc(y, train_pred)}\")\n",
    "                print(f\"validation infold auc score: {auc(y_val, val_pred)}\")\n",
    "                print(\"--\"*30)\n",
    "\n",
    "        if PRINT:\n",
    "            print(\"==\"*30)\n",
    "        \n",
    "        test_pred = np.mean(TEST_PRED, axis=0)\n",
    "        self.X_test.loc[:,'pred'] = test_pred\n",
    "        \n",
    "        self.model = model\n",
    "        if PRINT:\n",
    "#             \n",
    "            print(f\"validation OOF auc score: {auc(self.new_train.loc[:,'Exited'], self.new_train.loc[:,'pred'])}\")\n",
    "#             print(f\"test auc score:{auc(self.X_test.loc[:,'Exited'], self.X_test.loc[:,'pred'] )}\")\n",
    "        self.auc_OOF = auc(self.new_train.loc[:,'Exited'], self.new_train.loc[:,'pred'])\n",
    "#         self.auc_test = self.model, auc(self.X_test.loc[:,'Exited'], self.X_test.loc[:,'pred'] )\n",
    "            \n",
    "        return auc(self.new_train.loc[:,'Exited'], self.new_train.loc[:,'pred']), self.model#, auc(self.X_test.loc[:,'Exited'], self.X_test.loc[:,'pred'] )\n",
    "\n",
    "    \n",
    "    def fit_model(self,param):\n",
    "        self.new_train.loc[:, 'pred']=0.0\n",
    "        if SCALER:\n",
    "            self.model_scaler(scaler_type)\n",
    "\n",
    "        for fold in range(KFOLD):\n",
    "\n",
    "            X = self.new_train.loc[self.new_train.fold!=fold, self.selected_features]\n",
    "            y = self.new_train.loc[self.new_train.fold!=fold, 'Exited']\n",
    "\n",
    "            X_val = self.new_train.loc[self.new_train.fold==fold, self.selected_features]\n",
    "            y_val = self.new_train.loc[self.new_train.fold==fold,'Exited']\n",
    "            model = self.get_model(param)\n",
    "            model.fit(X,y)\n",
    "            train_pred = model.predict_proba(X)[:,1]\n",
    "            val_pred = model.predict_proba(X_val)[:,1]\n",
    "            self.new_train.loc[self.new_train.fold==fold, 'pred'] = val_pred\n",
    "#             self.new_train.loc[(self.new_train.fold==fold) & (self.new_train.status==0), 'pred'] = 1-self.new_train.loc[(self.new_train.fold==fold) & (self.new_train.status==0), 'pred']\n",
    "\n",
    "\n",
    "\n",
    "\n",
    "        return auc(self.new_train.loc[:,'Exited'], self.new_train.loc[:,'pred'])\n",
    "    \n",
    "    \n",
    "    def objective(self, trial):  \n",
    "    \n",
    "        r = self.new_train.loc[self.new_train['Exited']==0,:].shape[0]/self.new_train.shape[0]\n",
    "        class_weight= {'0':1-r, '1':r}\n",
    "\n",
    "\n",
    "        if self.MODEL=='rf':\n",
    "            # Random Forest Parameters\n",
    "\n",
    "            param = {\"n_estimators\":  trial.suggest_categorical('n_estimators', [20, 50, 100, 200, 300, 400, 600]),\n",
    "                 \"max_depth\": trial.suggest_categorical('max_depth', [10,20,30,40,50,60,70,80,90]),\n",
    "                 \"min_samples_split\": trial.suggest_categorical('min_samples_split', [2, 5, 10]),\n",
    "                 \"min_samples_leaf\": trial.suggest_categorical('min_samples_leaf', [1,2,4]),\n",
    "                 \"random_state\": trial.suggest_categorical('random_state', [42]),\n",
    "                 \"class_weight\": trial.suggest_categorical('class_weight', ['balanced'])\n",
    "\n",
    "            } \n",
    "\n",
    "\n",
    "        if self.MODEL == 'xgb':\n",
    "              # xgb Parameters\n",
    "            param={\n",
    "                'tree_method':'hist',\n",
    "                'device' : \"cuda\",\n",
    "#             'objective': trial.suggest_categorical('objective',['multi:softmax']),\n",
    "                'objective': trial.suggest_categorical('objective',['binary:logistic']),\n",
    "\n",
    "#             'eval_metric': trial.suggest_categorical('eval_metric',['mlogloss']),\n",
    "#                 'num_class': trial.suggest_categorical('num_class',[2]),\n",
    "            'eval_metric': trial.suggest_categorical('eval_metric',['auc']),\n",
    "            'lambda': trial.suggest_float('lambda', 1e-3, 10.0, log=True),\n",
    "            'alpha': trial.suggest_float('alpha', 1e-3, 10.0, log=True),\n",
    "            'colsample_bytree': trial.suggest_categorical('colsample_bytree', [0.3,0.4,0.5,0.6,0.7,0.8,0.9, 1.0]),\n",
    "            'subsample': trial.suggest_categorical('subsample', [0.4,0.5,0.6,0.7,0.8,1.0]),\n",
    "            'learning_rate': trial.suggest_categorical('learning_rate', [0.008,0.009,0.01,0.012,0.014,0.016,0.018, 0.02]),\n",
    "            'n_estimators': trial.suggest_categorical('n_estimators', [300, 400, 600, 800, 1000]),\n",
    "            'max_depth': trial.suggest_categorical('max_depth', [10,20,30,40,50,60,70,80]),\n",
    "            'min_child_weight': trial.suggest_int('min_child_weight', 1, 300),\n",
    "    #             'scale_pos_weight': trial.suggest_categorical('scale_pos_weight',[r, 1.2*r, 1.5*r , 2*r, 2.5*r]),\n",
    "    #             'sample_weight': trial.suggest_categorical('sample_weight',[list(class_weight.values())]),\n",
    "    #              'early_stopping_rounds': trial.suggest_categorical('early_stopping_rounds', [10]),\n",
    "\n",
    "                }\n",
    "        if self.MODEL == 'lgbm':\n",
    "\n",
    "            param = {\n",
    "                    'objective': trial.suggest_categorical('objective',['binary']), \n",
    "                    'metric': trial.suggest_categorical('metric',['auc']), \n",
    "                    'device': trial.suggest_categorical('device',['gpu']),\n",
    "                    'boosting': trial.suggest_categorical('boosting',['goss']),\n",
    "                    'learning_rate': trial.suggest_categorical('learning_rate', [0.008,0.009,0.01,0.012,0.014,0.016,0.018, 0.02]),\n",
    "                    'num_leaves': 8,\n",
    "                    'feature_fraction': trial.suggest_categorical('feature_fraction', [0.3,0.4,0.5,0.6,0.7,0.8,0.9, 1.0]),\n",
    "                    'bagging_fraction': trial.suggest_categorical('bagging_fraction', [0.3,0.4,0.5,0.6,0.7,0.8,0.9, 1.0]),\n",
    "                    'lambda_l1': trial.suggest_float('lambda_l1', 1e-3, 10.0, log=True), \n",
    "                    'lambda_l2': trial.suggest_float('lambda_l2', 1e-3, 10.0, log=True),\n",
    "                    'n_jobs': trial.suggest_categorical('n_jobs',[-1]),\n",
    "                    'is_unbalance':trial.suggest_categorical('is_unbalance',[True]), \n",
    "                    'verbose': trial.suggest_categorical('verbose',[-1]),\n",
    "                    'seed': trial.suggest_categorical('seed',[42]),\n",
    "                    }\n",
    "\n",
    "        if self.MODEL == 'cat':\n",
    "              \n",
    "            param = {\n",
    "                    'learning_rate': trial.suggest_float(\"learning_rate\", 0.001, 0.01, step=0.003), \n",
    "                    'depth': trial.suggest_int('depth', 5, 11), \n",
    "                    'l2_leaf_reg': trial.suggest_float('l2_leaf_reg', 1.0, 5.0, step=0.5),\n",
    "                    \"min_child_samples\": trial.suggest_categorical('min_child_samples', [1, 4, 8, 16, 32]),\n",
    "                    'grow_policy': trial.suggest_categorical('grow_policy', [\"Depthwise\"]),\n",
    "                    \"iterations\": trial.suggest_categorical('iterations', [300, 400, 600, 800, 1000]),\n",
    "                    \"task_type\":trial.suggest_categorical(\"task_type\",[\"GPU\"]),\n",
    "#                     \"use_best_model\": trial.suggest_categorical('use_best_model', [True]),\n",
    "#                     \"eval_metric\": trial.suggest_categorical('eval_metric', ['AUC']),\n",
    "                    \"od_type\": trial.suggest_categorical('od_type', ['Iter']),\n",
    "                    \"od_wait\": trial.suggest_categorical('od_wait', [50]),\n",
    "                    \"random_state\": trial.suggest_categorical('random_state', [42]),\n",
    "                    \"logging_level\": trial.suggest_categorical('logging_level', ['Silent']),\n",
    "                    }\n",
    "\n",
    "\n",
    "\n",
    "        return self.fit_model(param)\n",
    "\n",
    "    \n",
    "    def get_best_param(self, N_TRIALS):\n",
    "    #     optuna.logging.set_verbosity(optuna.logging.WARNING)\n",
    "        study=optuna.create_study(direction='maximize')\n",
    "        study.optimize(self.objective , n_trials=N_TRIALS)\n",
    "        print('Number of finished trials:', len(study.trials))\n",
    "        print('Best trial:', study.best_trial.params)\n",
    "        print(f\"Best trial Score: {study.best_trial.value}\")\n",
    "        self.param = study.best_trial.params"
   ]
  },
  {
   "cell_type": "code",
   "execution_count": 28,
   "id": "18948308",
   "metadata": {
    "execution": {
     "iopub.execute_input": "2024-01-30T22:04:11.395121Z",
     "iopub.status.busy": "2024-01-30T22:04:11.394853Z",
     "iopub.status.idle": "2024-01-30T22:04:11.422938Z",
     "shell.execute_reply": "2024-01-30T22:04:11.422130Z"
    },
    "papermill": {
     "duration": 0.049019,
     "end_time": "2024-01-30T22:04:11.425528",
     "exception": false,
     "start_time": "2024-01-30T22:04:11.376509",
     "status": "completed"
    },
    "tags": []
   },
   "outputs": [],
   "source": [
    "N_TRAILS=30\n",
    "xgb1 = TrainModel(X_train,X_test, 'xgb', features)\n",
    "\n",
    "\n",
    "# xgb1.get_best_param(N_TRAILS)"
   ]
  },
  {
   "cell_type": "code",
   "execution_count": 29,
   "id": "8e508b93",
   "metadata": {
    "execution": {
     "iopub.execute_input": "2024-01-30T22:04:11.462290Z",
     "iopub.status.busy": "2024-01-30T22:04:11.461988Z",
     "iopub.status.idle": "2024-01-30T22:04:37.659382Z",
     "shell.execute_reply": "2024-01-30T22:04:37.658444Z"
    },
    "papermill": {
     "duration": 26.218345,
     "end_time": "2024-01-30T22:04:37.661708",
     "exception": false,
     "start_time": "2024-01-30T22:04:11.443363",
     "status": "completed"
    },
    "tags": []
   },
   "outputs": [
    {
     "name": "stdout",
     "output_type": "stream",
     "text": [
      "fold: 0.........\n",
      "Load model.....\n",
      "model fitting......\n",
      "[08:34:57] WARNING: C:/Users/Administrator/workspace/xgboost-win64_release_1.6.0/src/learner.cc:627: \n",
      "Parameters: { \"device\" } might not be used.\n",
      "\n",
      "  This could be a false alarm, with some parameters getting used by language bindings but\n",
      "  then being mistakenly passed down to XGBoost core, or some parameter actually being used\n",
      "  but getting flagged wrongly here. Please open an issue if you find any such cases.\n",
      "\n",
      "\n",
      "training auc score: 0.8883099641115365\n",
      "validation infold auc score: 0.8790207927571693\n",
      "------------------------------------------------------------\n",
      "fold: 1.........\n",
      "Load model.....\n",
      "model fitting......\n",
      "[08:35:07] WARNING: C:/Users/Administrator/workspace/xgboost-win64_release_1.6.0/src/learner.cc:627: \n",
      "Parameters: { \"device\" } might not be used.\n",
      "\n",
      "  This could be a false alarm, with some parameters getting used by language bindings but\n",
      "  then being mistakenly passed down to XGBoost core, or some parameter actually being used\n",
      "  but getting flagged wrongly here. Please open an issue if you find any such cases.\n",
      "\n",
      "\n",
      "training auc score: 0.8879133552943927\n",
      "validation infold auc score: 0.8805744865135825\n",
      "------------------------------------------------------------\n",
      "fold: 2.........\n",
      "Load model.....\n",
      "model fitting......\n",
      "[08:35:17] WARNING: C:/Users/Administrator/workspace/xgboost-win64_release_1.6.0/src/learner.cc:627: \n",
      "Parameters: { \"device\" } might not be used.\n",
      "\n",
      "  This could be a false alarm, with some parameters getting used by language bindings but\n",
      "  then being mistakenly passed down to XGBoost core, or some parameter actually being used\n",
      "  but getting flagged wrongly here. Please open an issue if you find any such cases.\n",
      "\n",
      "\n",
      "training auc score: 0.8878490207264824\n",
      "validation infold auc score: 0.8804725440253993\n",
      "------------------------------------------------------------\n",
      "fold: 3.........\n",
      "Load model.....\n",
      "model fitting......\n",
      "[08:35:28] WARNING: C:/Users/Administrator/workspace/xgboost-win64_release_1.6.0/src/learner.cc:627: \n",
      "Parameters: { \"device\" } might not be used.\n",
      "\n",
      "  This could be a false alarm, with some parameters getting used by language bindings but\n",
      "  then being mistakenly passed down to XGBoost core, or some parameter actually being used\n",
      "  but getting flagged wrongly here. Please open an issue if you find any such cases.\n",
      "\n",
      "\n",
      "training auc score: 0.8879029300767238\n",
      "validation infold auc score: 0.8809726773232517\n",
      "------------------------------------------------------------\n",
      "fold: 4.........\n",
      "Load model.....\n",
      "model fitting......\n",
      "[08:35:39] WARNING: C:/Users/Administrator/workspace/xgboost-win64_release_1.6.0/src/learner.cc:627: \n",
      "Parameters: { \"device\" } might not be used.\n",
      "\n",
      "  This could be a false alarm, with some parameters getting used by language bindings but\n",
      "  then being mistakenly passed down to XGBoost core, or some parameter actually being used\n",
      "  but getting flagged wrongly here. Please open an issue if you find any such cases.\n",
      "\n",
      "\n",
      "training auc score: 0.8885494180713502\n",
      "validation infold auc score: 0.8785046866018645\n",
      "------------------------------------------------------------\n",
      "============================================================\n",
      "validation OOF auc score: 0.87989341928601\n"
     ]
    }
   ],
   "source": [
    "best_param_xgb = {'objective': 'binary:logistic', 'tree_method':'hist','device' : 'cuda' , 'eval_metric': 'auc', 'lambda': 0.1609974700699936, 'alpha': 8.00150841553724, 'colsample_bytree': 0.6, 'subsample': 1.0, 'learning_rate': 0.009, 'n_estimators': 1000, 'max_depth': 70, 'min_child_weight': 87}\n",
    "xgb1.param = best_param_xgb\n",
    "xgb_auc_OOF, xgb_model = xgb1.model_train(True, SCALER)"
   ]
  },
  {
   "cell_type": "code",
   "execution_count": 30,
   "id": "2211cfea",
   "metadata": {
    "execution": {
     "iopub.execute_input": "2024-01-30T22:04:37.739491Z",
     "iopub.status.busy": "2024-01-30T22:04:37.738686Z",
     "iopub.status.idle": "2024-01-30T22:04:37.754032Z",
     "shell.execute_reply": "2024-01-30T22:04:37.753121Z"
    },
    "papermill": {
     "duration": 0.03655,
     "end_time": "2024-01-30T22:04:37.756156",
     "exception": false,
     "start_time": "2024-01-30T22:04:37.719606",
     "status": "completed"
    },
    "tags": []
   },
   "outputs": [
    {
     "data": {
      "text/html": [
       "<div>\n",
       "<style scoped>\n",
       "    .dataframe tbody tr th:only-of-type {\n",
       "        vertical-align: middle;\n",
       "    }\n",
       "\n",
       "    .dataframe tbody tr th {\n",
       "        vertical-align: top;\n",
       "    }\n",
       "\n",
       "    .dataframe thead th {\n",
       "        text-align: right;\n",
       "    }\n",
       "</style>\n",
       "<table border=\"1\" class=\"dataframe\">\n",
       "  <thead>\n",
       "    <tr style=\"text-align: right;\">\n",
       "      <th></th>\n",
       "      <th>features</th>\n",
       "      <th>imp</th>\n",
       "    </tr>\n",
       "  </thead>\n",
       "  <tbody>\n",
       "    <tr>\n",
       "      <th>5</th>\n",
       "      <td>NumOfProducts</td>\n",
       "      <td>0.546417</td>\n",
       "    </tr>\n",
       "    <tr>\n",
       "      <th>7</th>\n",
       "      <td>IsActiveMember</td>\n",
       "      <td>0.150511</td>\n",
       "    </tr>\n",
       "    <tr>\n",
       "      <th>3</th>\n",
       "      <td>Age</td>\n",
       "      <td>0.094128</td>\n",
       "    </tr>\n",
       "    <tr>\n",
       "      <th>10</th>\n",
       "      <td>IsActive_by_CreditCard</td>\n",
       "      <td>0.074260</td>\n",
       "    </tr>\n",
       "    <tr>\n",
       "      <th>9</th>\n",
       "      <td>IsSenior</td>\n",
       "      <td>0.044469</td>\n",
       "    </tr>\n",
       "    <tr>\n",
       "      <th>2</th>\n",
       "      <td>Gender</td>\n",
       "      <td>0.034800</td>\n",
       "    </tr>\n",
       "    <tr>\n",
       "      <th>1</th>\n",
       "      <td>Geography</td>\n",
       "      <td>0.023037</td>\n",
       "    </tr>\n",
       "    <tr>\n",
       "      <th>11</th>\n",
       "      <td>Products_Per_Tenure</td>\n",
       "      <td>0.014045</td>\n",
       "    </tr>\n",
       "    <tr>\n",
       "      <th>6</th>\n",
       "      <td>HasCrCard</td>\n",
       "      <td>0.006894</td>\n",
       "    </tr>\n",
       "    <tr>\n",
       "      <th>4</th>\n",
       "      <td>Tenure</td>\n",
       "      <td>0.005647</td>\n",
       "    </tr>\n",
       "    <tr>\n",
       "      <th>0</th>\n",
       "      <td>CreditScore</td>\n",
       "      <td>0.002142</td>\n",
       "    </tr>\n",
       "    <tr>\n",
       "      <th>8</th>\n",
       "      <td>EstimatedSalary</td>\n",
       "      <td>0.001861</td>\n",
       "    </tr>\n",
       "    <tr>\n",
       "      <th>12</th>\n",
       "      <td>Surname_len</td>\n",
       "      <td>0.001789</td>\n",
       "    </tr>\n",
       "  </tbody>\n",
       "</table>\n",
       "</div>"
      ],
      "text/plain": [
       "                  features       imp\n",
       "5            NumOfProducts  0.546417\n",
       "7           IsActiveMember  0.150511\n",
       "3                      Age  0.094128\n",
       "10  IsActive_by_CreditCard  0.074260\n",
       "9                 IsSenior  0.044469\n",
       "2                   Gender  0.034800\n",
       "1                Geography  0.023037\n",
       "11     Products_Per_Tenure  0.014045\n",
       "6                HasCrCard  0.006894\n",
       "4                   Tenure  0.005647\n",
       "0              CreditScore  0.002142\n",
       "8          EstimatedSalary  0.001861\n",
       "12             Surname_len  0.001789"
      ]
     },
     "execution_count": 30,
     "metadata": {},
     "output_type": "execute_result"
    }
   ],
   "source": [
    "imp_df = pd.DataFrame({'features':features,'imp':xgb_model.feature_importances_})\n",
    "imp_df.sort_values('imp', ascending=False, inplace=True)\n",
    "imp_df.head(n=30)"
   ]
  },
  {
   "cell_type": "code",
   "execution_count": 38,
   "id": "cd0e320a",
   "metadata": {
    "execution": {
     "iopub.execute_input": "2024-01-30T22:04:37.794038Z",
     "iopub.status.busy": "2024-01-30T22:04:37.793757Z",
     "iopub.status.idle": "2024-01-30T22:04:37.808434Z",
     "shell.execute_reply": "2024-01-30T22:04:37.807772Z"
    },
    "papermill": {
     "duration": 0.035777,
     "end_time": "2024-01-30T22:04:37.810348",
     "exception": false,
     "start_time": "2024-01-30T22:04:37.774571",
     "status": "completed"
    },
    "tags": []
   },
   "outputs": [],
   "source": [
    "results_train = pd.DataFrame()\n",
    "results_test = pd.DataFrame()\n",
    "\n",
    "results_train.loc[:,'id'] = xgb1.new_train.loc[:,'id']\n",
    "results_train.loc[:,'Exited'] = xgb1.new_train.loc[:,'Exited']\n",
    "results_train.loc[:,'xgb'] = xgb1.new_train.loc[:,'pred']\n",
    "\n",
    "results_test.loc[:,'id'] = xgb1.X_test.loc[:,'id']\n",
    "results_test.loc[:,'xgb'] = xgb1.X_test.loc[:,'pred']"
   ]
  },
  {
   "cell_type": "code",
   "execution_count": 39,
   "id": "e2339ae8",
   "metadata": {
    "execution": {
     "iopub.execute_input": "2024-01-30T22:04:37.848105Z",
     "iopub.status.busy": "2024-01-30T22:04:37.847851Z",
     "iopub.status.idle": "2024-01-30T22:04:37.868312Z",
     "shell.execute_reply": "2024-01-30T22:04:37.867576Z"
    },
    "papermill": {
     "duration": 0.041749,
     "end_time": "2024-01-30T22:04:37.870444",
     "exception": false,
     "start_time": "2024-01-30T22:04:37.828695",
     "status": "completed"
    },
    "tags": []
   },
   "outputs": [],
   "source": [
    "# N_TRAILS=30\n",
    "SCALER=False\n",
    "scaler_type='mm'\n",
    "lgbm1 = TrainModel(X_train,X_test, 'lgbm', features)\n",
    "\n",
    "\n",
    "\n",
    "# lgbm1.get_best_param(N_TRAILS)"
   ]
  },
  {
   "cell_type": "code",
   "execution_count": 40,
   "id": "6a8310df",
   "metadata": {
    "execution": {
     "iopub.execute_input": "2024-01-30T22:04:37.908809Z",
     "iopub.status.busy": "2024-01-30T22:04:37.908002Z",
     "iopub.status.idle": "2024-01-30T22:04:53.870513Z",
     "shell.execute_reply": "2024-01-30T22:04:53.868529Z"
    },
    "papermill": {
     "duration": 15.983764,
     "end_time": "2024-01-30T22:04:53.872830",
     "exception": false,
     "start_time": "2024-01-30T22:04:37.889066",
     "status": "completed"
    },
    "tags": []
   },
   "outputs": [
    {
     "name": "stdout",
     "output_type": "stream",
     "text": [
      "fold: 0.........\n",
      "Load model.....\n",
      "model fitting......\n",
      "[LightGBM] [Warning] boosting is set=goss, boosting_type=gbdt will be ignored. Current value: boosting=goss\n",
      "[LightGBM] [Warning] feature_fraction is set=0.5, colsample_bytree=1.0 will be ignored. Current value: feature_fraction=0.5\n",
      "[LightGBM] [Warning] lambda_l1 is set=1.1214323077269823, reg_alpha=0.0 will be ignored. Current value: lambda_l1=1.1214323077269823\n",
      "[LightGBM] [Warning] bagging_fraction is set=0.5, subsample=1.0 will be ignored. Current value: bagging_fraction=0.5\n",
      "[LightGBM] [Warning] lambda_l2 is set=0.005114020277529055, reg_lambda=0.0 will be ignored. Current value: lambda_l2=0.005114020277529055\n",
      "training auc score: 0.8799051356693468\n",
      "validation infold auc score: 0.876713819531132\n",
      "------------------------------------------------------------\n",
      "fold: 1.........\n",
      "Load model.....\n",
      "model fitting......\n",
      "[LightGBM] [Warning] boosting is set=goss, boosting_type=gbdt will be ignored. Current value: boosting=goss\n",
      "[LightGBM] [Warning] feature_fraction is set=0.5, colsample_bytree=1.0 will be ignored. Current value: feature_fraction=0.5\n",
      "[LightGBM] [Warning] lambda_l1 is set=1.1214323077269823, reg_alpha=0.0 will be ignored. Current value: lambda_l1=1.1214323077269823\n",
      "[LightGBM] [Warning] bagging_fraction is set=0.5, subsample=1.0 will be ignored. Current value: bagging_fraction=0.5\n",
      "[LightGBM] [Warning] lambda_l2 is set=0.005114020277529055, reg_lambda=0.0 will be ignored. Current value: lambda_l2=0.005114020277529055\n",
      "training auc score: 0.8795748421885505\n",
      "validation infold auc score: 0.8784105326423066\n",
      "------------------------------------------------------------\n",
      "fold: 2.........\n",
      "Load model.....\n",
      "model fitting......\n",
      "[LightGBM] [Warning] boosting is set=goss, boosting_type=gbdt will be ignored. Current value: boosting=goss\n",
      "[LightGBM] [Warning] feature_fraction is set=0.5, colsample_bytree=1.0 will be ignored. Current value: feature_fraction=0.5\n",
      "[LightGBM] [Warning] lambda_l1 is set=1.1214323077269823, reg_alpha=0.0 will be ignored. Current value: lambda_l1=1.1214323077269823\n",
      "[LightGBM] [Warning] bagging_fraction is set=0.5, subsample=1.0 will be ignored. Current value: bagging_fraction=0.5\n",
      "[LightGBM] [Warning] lambda_l2 is set=0.005114020277529055, reg_lambda=0.0 will be ignored. Current value: lambda_l2=0.005114020277529055\n",
      "training auc score: 0.8795382665772016\n",
      "validation infold auc score: 0.8780477268786678\n",
      "------------------------------------------------------------\n",
      "fold: 3.........\n",
      "Load model.....\n",
      "model fitting......\n",
      "[LightGBM] [Warning] boosting is set=goss, boosting_type=gbdt will be ignored. Current value: boosting=goss\n",
      "[LightGBM] [Warning] feature_fraction is set=0.5, colsample_bytree=1.0 will be ignored. Current value: feature_fraction=0.5\n",
      "[LightGBM] [Warning] lambda_l1 is set=1.1214323077269823, reg_alpha=0.0 will be ignored. Current value: lambda_l1=1.1214323077269823\n",
      "[LightGBM] [Warning] bagging_fraction is set=0.5, subsample=1.0 will be ignored. Current value: bagging_fraction=0.5\n",
      "[LightGBM] [Warning] lambda_l2 is set=0.005114020277529055, reg_lambda=0.0 will be ignored. Current value: lambda_l2=0.005114020277529055\n",
      "training auc score: 0.8794660345054717\n",
      "validation infold auc score: 0.8789468021854971\n",
      "------------------------------------------------------------\n",
      "fold: 4.........\n",
      "Load model.....\n",
      "model fitting......\n",
      "[LightGBM] [Warning] boosting is set=goss, boosting_type=gbdt will be ignored. Current value: boosting=goss\n",
      "[LightGBM] [Warning] feature_fraction is set=0.5, colsample_bytree=1.0 will be ignored. Current value: feature_fraction=0.5\n",
      "[LightGBM] [Warning] lambda_l1 is set=1.1214323077269823, reg_alpha=0.0 will be ignored. Current value: lambda_l1=1.1214323077269823\n",
      "[LightGBM] [Warning] bagging_fraction is set=0.5, subsample=1.0 will be ignored. Current value: bagging_fraction=0.5\n",
      "[LightGBM] [Warning] lambda_l2 is set=0.005114020277529055, reg_lambda=0.0 will be ignored. Current value: lambda_l2=0.005114020277529055\n",
      "training auc score: 0.8798434599437398\n",
      "validation infold auc score: 0.8768973504047988\n",
      "------------------------------------------------------------\n",
      "============================================================\n",
      "validation OOF auc score: 0.8777831066567761\n"
     ]
    }
   ],
   "source": [
    "best_param_lgbm = {'objective': 'binary', 'metric': 'auc', 'device': 'gpu', 'boosting': 'goss', 'learning_rate': 0.018, 'feature_fraction': 0.5, 'bagging_fraction': 0.5, 'lambda_l1': 1.1214323077269823, 'lambda_l2': 0.005114020277529055, 'n_jobs': -1, 'is_unbalance': True, 'verbose': -1, 'seed': 42}\n",
    "lgbm1.param = best_param_lgbm\n",
    "lgbm_auc_OOF, lgbm_model = lgbm1.model_train(True, SCALER)"
   ]
  },
  {
   "cell_type": "code",
   "execution_count": 41,
   "id": "3e7bff47",
   "metadata": {
    "execution": {
     "iopub.execute_input": "2024-01-30T22:04:53.917739Z",
     "iopub.status.busy": "2024-01-30T22:04:53.917180Z",
     "iopub.status.idle": "2024-01-30T22:04:53.923182Z",
     "shell.execute_reply": "2024-01-30T22:04:53.922441Z"
    },
    "papermill": {
     "duration": 0.029591,
     "end_time": "2024-01-30T22:04:53.925056",
     "exception": false,
     "start_time": "2024-01-30T22:04:53.895465",
     "status": "completed"
    },
    "tags": []
   },
   "outputs": [],
   "source": [
    "results_train.loc[:,'lgbm'] = lgbm1.new_train.loc[:,'pred']\n",
    "results_test.loc[:,'lgbm'] = lgbm1.X_test.loc[:,'pred']"
   ]
  },
  {
   "cell_type": "code",
   "execution_count": 42,
   "id": "4b95230f",
   "metadata": {
    "execution": {
     "iopub.execute_input": "2024-01-30T22:04:53.967083Z",
     "iopub.status.busy": "2024-01-30T22:04:53.966839Z",
     "iopub.status.idle": "2024-01-30T22:04:53.986690Z",
     "shell.execute_reply": "2024-01-30T22:04:53.985904Z"
    },
    "papermill": {
     "duration": 0.043276,
     "end_time": "2024-01-30T22:04:53.988904",
     "exception": false,
     "start_time": "2024-01-30T22:04:53.945628",
     "status": "completed"
    },
    "tags": []
   },
   "outputs": [],
   "source": [
    "# N_TRAILS=30\n",
    "SCALER=False\n",
    "scaler_type='mm'\n",
    "cat1 = TrainModel(X_train,X_test, 'cat', features)\n",
    "\n",
    "\n",
    "\n",
    "# cat1.get_best_param(N_TRAILS)"
   ]
  },
  {
   "cell_type": "code",
   "execution_count": 43,
   "id": "0f430875",
   "metadata": {
    "execution": {
     "iopub.execute_input": "2024-01-30T22:04:54.031762Z",
     "iopub.status.busy": "2024-01-30T22:04:54.031085Z",
     "iopub.status.idle": "2024-01-30T22:06:01.081334Z",
     "shell.execute_reply": "2024-01-30T22:06:01.080367Z"
    },
    "papermill": {
     "duration": 67.094037,
     "end_time": "2024-01-30T22:06:01.104155",
     "exception": false,
     "start_time": "2024-01-30T22:04:54.010118",
     "status": "completed"
    },
    "tags": []
   },
   "outputs": [
    {
     "name": "stdout",
     "output_type": "stream",
     "text": [
      "fold: 0.........\n",
      "Load model.....\n",
      "model fitting......\n"
     ]
    },
    {
     "ename": "CatBoostError",
     "evalue": "C:/Go_Agent/pipelines/BuildMaster/catboost.git/catboost/cuda/cuda_lib/cuda_base.h:281: CUDA error 35: CUDA driver version is insufficient for CUDA runtime version",
     "output_type": "error",
     "traceback": [
      "\u001b[1;31m---------------------------------------------------------------------------\u001b[0m",
      "\u001b[1;31mCatBoostError\u001b[0m                             Traceback (most recent call last)",
      "Input \u001b[1;32mIn [43]\u001b[0m, in \u001b[0;36m<cell line: 3>\u001b[1;34m()\u001b[0m\n\u001b[0;32m      1\u001b[0m best_param_cat \u001b[38;5;241m=\u001b[39m {\u001b[38;5;124m'\u001b[39m\u001b[38;5;124mlearning_rate\u001b[39m\u001b[38;5;124m'\u001b[39m: \u001b[38;5;241m0.01\u001b[39m, \u001b[38;5;124m'\u001b[39m\u001b[38;5;124mdepth\u001b[39m\u001b[38;5;124m'\u001b[39m: \u001b[38;5;241m6\u001b[39m, \u001b[38;5;124m'\u001b[39m\u001b[38;5;124ml2_leaf_reg\u001b[39m\u001b[38;5;124m'\u001b[39m: \u001b[38;5;241m2.5\u001b[39m, \u001b[38;5;124m'\u001b[39m\u001b[38;5;124mmin_child_samples\u001b[39m\u001b[38;5;124m'\u001b[39m: \u001b[38;5;241m32\u001b[39m, \u001b[38;5;124m'\u001b[39m\u001b[38;5;124mgrow_policy\u001b[39m\u001b[38;5;124m'\u001b[39m: \u001b[38;5;124m'\u001b[39m\u001b[38;5;124mDepthwise\u001b[39m\u001b[38;5;124m'\u001b[39m, \u001b[38;5;124m'\u001b[39m\u001b[38;5;124miterations\u001b[39m\u001b[38;5;124m'\u001b[39m: \u001b[38;5;241m1000\u001b[39m, \u001b[38;5;124m'\u001b[39m\u001b[38;5;124mtask_type\u001b[39m\u001b[38;5;124m'\u001b[39m: \u001b[38;5;124m'\u001b[39m\u001b[38;5;124mGPU\u001b[39m\u001b[38;5;124m'\u001b[39m, \u001b[38;5;124m'\u001b[39m\u001b[38;5;124mod_type\u001b[39m\u001b[38;5;124m'\u001b[39m: \u001b[38;5;124m'\u001b[39m\u001b[38;5;124mIter\u001b[39m\u001b[38;5;124m'\u001b[39m, \u001b[38;5;124m'\u001b[39m\u001b[38;5;124mod_wait\u001b[39m\u001b[38;5;124m'\u001b[39m: \u001b[38;5;241m50\u001b[39m, \u001b[38;5;124m'\u001b[39m\u001b[38;5;124mrandom_state\u001b[39m\u001b[38;5;124m'\u001b[39m: \u001b[38;5;241m42\u001b[39m, \u001b[38;5;124m'\u001b[39m\u001b[38;5;124mlogging_level\u001b[39m\u001b[38;5;124m'\u001b[39m: \u001b[38;5;124m'\u001b[39m\u001b[38;5;124mSilent\u001b[39m\u001b[38;5;124m'\u001b[39m}\n\u001b[0;32m      2\u001b[0m cat1\u001b[38;5;241m.\u001b[39mparam \u001b[38;5;241m=\u001b[39m best_param_cat\n\u001b[1;32m----> 3\u001b[0m cat_auc_OOF, cat_model \u001b[38;5;241m=\u001b[39m \u001b[43mcat1\u001b[49m\u001b[38;5;241;43m.\u001b[39;49m\u001b[43mmodel_train\u001b[49m\u001b[43m(\u001b[49m\u001b[38;5;28;43;01mTrue\u001b[39;49;00m\u001b[43m,\u001b[49m\u001b[43m \u001b[49m\u001b[43mSCALER\u001b[49m\u001b[43m)\u001b[49m\n",
      "Input \u001b[1;32mIn [37]\u001b[0m, in \u001b[0;36mTrainModel.model_train\u001b[1;34m(self, PRINT, SCALER)\u001b[0m\n\u001b[0;32m     72\u001b[0m \u001b[38;5;28;01mif\u001b[39;00m PRINT:\n\u001b[0;32m     73\u001b[0m     \u001b[38;5;28mprint\u001b[39m(\u001b[38;5;124m'\u001b[39m\u001b[38;5;124mmodel fitting......\u001b[39m\u001b[38;5;124m'\u001b[39m)\n\u001b[1;32m---> 74\u001b[0m \u001b[43mmodel\u001b[49m\u001b[38;5;241;43m.\u001b[39;49m\u001b[43mfit\u001b[49m\u001b[43m(\u001b[49m\u001b[43mX\u001b[49m\u001b[43m,\u001b[49m\u001b[43my\u001b[49m\u001b[43m)\u001b[49m\n\u001b[0;32m     75\u001b[0m train_pred \u001b[38;5;241m=\u001b[39m model\u001b[38;5;241m.\u001b[39mpredict_proba(X)[:,\u001b[38;5;241m1\u001b[39m]\n\u001b[0;32m     77\u001b[0m val_pred \u001b[38;5;241m=\u001b[39m model\u001b[38;5;241m.\u001b[39mpredict_proba(X_val)[:,\u001b[38;5;241m1\u001b[39m]\n",
      "File \u001b[1;32m~\\AppData\\Roaming\\Python\\Python39\\site-packages\\catboost\\core.py:5100\u001b[0m, in \u001b[0;36mCatBoostClassifier.fit\u001b[1;34m(self, X, y, cat_features, text_features, embedding_features, sample_weight, baseline, use_best_model, eval_set, verbose, logging_level, plot, plot_file, column_description, verbose_eval, metric_period, silent, early_stopping_rounds, save_snapshot, snapshot_file, snapshot_interval, init_model, callbacks, log_cout, log_cerr)\u001b[0m\n\u001b[0;32m   5097\u001b[0m \u001b[38;5;28;01mif\u001b[39;00m \u001b[38;5;124m'\u001b[39m\u001b[38;5;124mloss_function\u001b[39m\u001b[38;5;124m'\u001b[39m \u001b[38;5;129;01min\u001b[39;00m params:\n\u001b[0;32m   5098\u001b[0m     CatBoostClassifier\u001b[38;5;241m.\u001b[39m_check_is_compatible_loss(params[\u001b[38;5;124m'\u001b[39m\u001b[38;5;124mloss_function\u001b[39m\u001b[38;5;124m'\u001b[39m])\n\u001b[1;32m-> 5100\u001b[0m \u001b[38;5;28;43mself\u001b[39;49m\u001b[38;5;241;43m.\u001b[39;49m\u001b[43m_fit\u001b[49m\u001b[43m(\u001b[49m\u001b[43mX\u001b[49m\u001b[43m,\u001b[49m\u001b[43m \u001b[49m\u001b[43my\u001b[49m\u001b[43m,\u001b[49m\u001b[43m \u001b[49m\u001b[43mcat_features\u001b[49m\u001b[43m,\u001b[49m\u001b[43m \u001b[49m\u001b[43mtext_features\u001b[49m\u001b[43m,\u001b[49m\u001b[43m \u001b[49m\u001b[43membedding_features\u001b[49m\u001b[43m,\u001b[49m\u001b[43m \u001b[49m\u001b[38;5;28;43;01mNone\u001b[39;49;00m\u001b[43m,\u001b[49m\u001b[43m \u001b[49m\u001b[43msample_weight\u001b[49m\u001b[43m,\u001b[49m\u001b[43m \u001b[49m\u001b[38;5;28;43;01mNone\u001b[39;49;00m\u001b[43m,\u001b[49m\u001b[43m \u001b[49m\u001b[38;5;28;43;01mNone\u001b[39;49;00m\u001b[43m,\u001b[49m\u001b[43m \u001b[49m\u001b[38;5;28;43;01mNone\u001b[39;49;00m\u001b[43m,\u001b[49m\u001b[43m \u001b[49m\u001b[38;5;28;43;01mNone\u001b[39;49;00m\u001b[43m,\u001b[49m\u001b[43m \u001b[49m\u001b[43mbaseline\u001b[49m\u001b[43m,\u001b[49m\u001b[43m \u001b[49m\u001b[43muse_best_model\u001b[49m\u001b[43m,\u001b[49m\n\u001b[0;32m   5101\u001b[0m \u001b[43m          \u001b[49m\u001b[43meval_set\u001b[49m\u001b[43m,\u001b[49m\u001b[43m \u001b[49m\u001b[43mverbose\u001b[49m\u001b[43m,\u001b[49m\u001b[43m \u001b[49m\u001b[43mlogging_level\u001b[49m\u001b[43m,\u001b[49m\u001b[43m \u001b[49m\u001b[43mplot\u001b[49m\u001b[43m,\u001b[49m\u001b[43m \u001b[49m\u001b[43mplot_file\u001b[49m\u001b[43m,\u001b[49m\u001b[43m \u001b[49m\u001b[43mcolumn_description\u001b[49m\u001b[43m,\u001b[49m\u001b[43m \u001b[49m\u001b[43mverbose_eval\u001b[49m\u001b[43m,\u001b[49m\u001b[43m \u001b[49m\u001b[43mmetric_period\u001b[49m\u001b[43m,\u001b[49m\n\u001b[0;32m   5102\u001b[0m \u001b[43m          \u001b[49m\u001b[43msilent\u001b[49m\u001b[43m,\u001b[49m\u001b[43m \u001b[49m\u001b[43mearly_stopping_rounds\u001b[49m\u001b[43m,\u001b[49m\u001b[43m \u001b[49m\u001b[43msave_snapshot\u001b[49m\u001b[43m,\u001b[49m\u001b[43m \u001b[49m\u001b[43msnapshot_file\u001b[49m\u001b[43m,\u001b[49m\u001b[43m \u001b[49m\u001b[43msnapshot_interval\u001b[49m\u001b[43m,\u001b[49m\u001b[43m \u001b[49m\u001b[43minit_model\u001b[49m\u001b[43m,\u001b[49m\u001b[43m \u001b[49m\u001b[43mcallbacks\u001b[49m\u001b[43m,\u001b[49m\u001b[43m \u001b[49m\u001b[43mlog_cout\u001b[49m\u001b[43m,\u001b[49m\u001b[43m \u001b[49m\u001b[43mlog_cerr\u001b[49m\u001b[43m)\u001b[49m\n\u001b[0;32m   5103\u001b[0m \u001b[38;5;28;01mreturn\u001b[39;00m \u001b[38;5;28mself\u001b[39m\n",
      "File \u001b[1;32m~\\AppData\\Roaming\\Python\\Python39\\site-packages\\catboost\\core.py:2319\u001b[0m, in \u001b[0;36mCatBoost._fit\u001b[1;34m(self, X, y, cat_features, text_features, embedding_features, pairs, sample_weight, group_id, group_weight, subgroup_id, pairs_weight, baseline, use_best_model, eval_set, verbose, logging_level, plot, plot_file, column_description, verbose_eval, metric_period, silent, early_stopping_rounds, save_snapshot, snapshot_file, snapshot_interval, init_model, callbacks, log_cout, log_cerr)\u001b[0m\n\u001b[0;32m   2315\u001b[0m allow_clear_pool \u001b[38;5;241m=\u001b[39m train_params[\u001b[38;5;124m\"\u001b[39m\u001b[38;5;124mallow_clear_pool\u001b[39m\u001b[38;5;124m\"\u001b[39m]\n\u001b[0;32m   2317\u001b[0m \u001b[38;5;28;01mwith\u001b[39;00m log_fixup(log_cout, log_cerr), \\\n\u001b[0;32m   2318\u001b[0m     plot_wrapper(plot, plot_file, \u001b[38;5;124m'\u001b[39m\u001b[38;5;124mTraining plots\u001b[39m\u001b[38;5;124m'\u001b[39m, [_get_train_dir(\u001b[38;5;28mself\u001b[39m\u001b[38;5;241m.\u001b[39mget_params())]):\n\u001b[1;32m-> 2319\u001b[0m     \u001b[38;5;28;43mself\u001b[39;49m\u001b[38;5;241;43m.\u001b[39;49m\u001b[43m_train\u001b[49m\u001b[43m(\u001b[49m\n\u001b[0;32m   2320\u001b[0m \u001b[43m        \u001b[49m\u001b[43mtrain_pool\u001b[49m\u001b[43m,\u001b[49m\n\u001b[0;32m   2321\u001b[0m \u001b[43m        \u001b[49m\u001b[43mtrain_params\u001b[49m\u001b[43m[\u001b[49m\u001b[38;5;124;43m\"\u001b[39;49m\u001b[38;5;124;43meval_sets\u001b[39;49m\u001b[38;5;124;43m\"\u001b[39;49m\u001b[43m]\u001b[49m\u001b[43m,\u001b[49m\n\u001b[0;32m   2322\u001b[0m \u001b[43m        \u001b[49m\u001b[43mparams\u001b[49m\u001b[43m,\u001b[49m\n\u001b[0;32m   2323\u001b[0m \u001b[43m        \u001b[49m\u001b[43mallow_clear_pool\u001b[49m\u001b[43m,\u001b[49m\n\u001b[0;32m   2324\u001b[0m \u001b[43m        \u001b[49m\u001b[43mtrain_params\u001b[49m\u001b[43m[\u001b[49m\u001b[38;5;124;43m\"\u001b[39;49m\u001b[38;5;124;43minit_model\u001b[39;49m\u001b[38;5;124;43m\"\u001b[39;49m\u001b[43m]\u001b[49m\n\u001b[0;32m   2325\u001b[0m \u001b[43m    \u001b[49m\u001b[43m)\u001b[49m\n\u001b[0;32m   2327\u001b[0m \u001b[38;5;66;03m# Have property feature_importance possibly set\u001b[39;00m\n\u001b[0;32m   2328\u001b[0m loss \u001b[38;5;241m=\u001b[39m \u001b[38;5;28mself\u001b[39m\u001b[38;5;241m.\u001b[39m_object\u001b[38;5;241m.\u001b[39m_get_loss_function_name()\n",
      "File \u001b[1;32m~\\AppData\\Roaming\\Python\\Python39\\site-packages\\catboost\\core.py:1723\u001b[0m, in \u001b[0;36m_CatBoostBase._train\u001b[1;34m(self, train_pool, test_pool, params, allow_clear_pool, init_model)\u001b[0m\n\u001b[0;32m   1722\u001b[0m \u001b[38;5;28;01mdef\u001b[39;00m \u001b[38;5;21m_train\u001b[39m(\u001b[38;5;28mself\u001b[39m, train_pool, test_pool, params, allow_clear_pool, init_model):\n\u001b[1;32m-> 1723\u001b[0m     \u001b[38;5;28;43mself\u001b[39;49m\u001b[38;5;241;43m.\u001b[39;49m\u001b[43m_object\u001b[49m\u001b[38;5;241;43m.\u001b[39;49m\u001b[43m_train\u001b[49m\u001b[43m(\u001b[49m\u001b[43mtrain_pool\u001b[49m\u001b[43m,\u001b[49m\u001b[43m \u001b[49m\u001b[43mtest_pool\u001b[49m\u001b[43m,\u001b[49m\u001b[43m \u001b[49m\u001b[43mparams\u001b[49m\u001b[43m,\u001b[49m\u001b[43m \u001b[49m\u001b[43mallow_clear_pool\u001b[49m\u001b[43m,\u001b[49m\u001b[43m \u001b[49m\u001b[43minit_model\u001b[49m\u001b[38;5;241;43m.\u001b[39;49m\u001b[43m_object\u001b[49m\u001b[43m \u001b[49m\u001b[38;5;28;43;01mif\u001b[39;49;00m\u001b[43m \u001b[49m\u001b[43minit_model\u001b[49m\u001b[43m \u001b[49m\u001b[38;5;28;43;01melse\u001b[39;49;00m\u001b[43m \u001b[49m\u001b[38;5;28;43;01mNone\u001b[39;49;00m\u001b[43m)\u001b[49m\n\u001b[0;32m   1724\u001b[0m     \u001b[38;5;28mself\u001b[39m\u001b[38;5;241m.\u001b[39m_set_trained_model_attributes()\n",
      "File \u001b[1;32m_catboost.pyx:4645\u001b[0m, in \u001b[0;36m_catboost._CatBoost._train\u001b[1;34m()\u001b[0m\n",
      "File \u001b[1;32m_catboost.pyx:4694\u001b[0m, in \u001b[0;36m_catboost._CatBoost._train\u001b[1;34m()\u001b[0m\n",
      "\u001b[1;31mCatBoostError\u001b[0m: C:/Go_Agent/pipelines/BuildMaster/catboost.git/catboost/cuda/cuda_lib/cuda_base.h:281: CUDA error 35: CUDA driver version is insufficient for CUDA runtime version"
     ]
    }
   ],
   "source": [
    "best_param_cat = {'learning_rate': 0.01, 'depth': 6, 'l2_leaf_reg': 2.5, 'min_child_samples': 32, 'grow_policy': 'Depthwise', 'iterations': 1000, 'task_type': 'GPU', 'od_type': 'Iter', 'od_wait': 50, 'random_state': 42, 'logging_level': 'Silent'}\n",
    "cat1.param = best_param_cat\n",
    "cat_auc_OOF, cat_model = cat1.model_train(True, SCALER)"
   ]
  },
  {
   "cell_type": "code",
   "execution_count": 38,
   "id": "af0ff12f",
   "metadata": {
    "execution": {
     "iopub.execute_input": "2024-01-30T22:06:01.146288Z",
     "iopub.status.busy": "2024-01-30T22:06:01.145963Z",
     "iopub.status.idle": "2024-01-30T22:06:01.151944Z",
     "shell.execute_reply": "2024-01-30T22:06:01.151219Z"
    },
    "papermill": {
     "duration": 0.0291,
     "end_time": "2024-01-30T22:06:01.153774",
     "exception": false,
     "start_time": "2024-01-30T22:06:01.124674",
     "status": "completed"
    },
    "tags": []
   },
   "outputs": [
    {
     "ename": "KeyError",
     "evalue": "'pred'",
     "output_type": "error",
     "traceback": [
      "\u001b[1;31m---------------------------------------------------------------------------\u001b[0m",
      "\u001b[1;31mKeyError\u001b[0m                                  Traceback (most recent call last)",
      "File \u001b[1;32mc:\\ProgramData\\Anaconda3\\lib\\site-packages\\pandas\\core\\indexes\\base.py:3621\u001b[0m, in \u001b[0;36mIndex.get_loc\u001b[1;34m(self, key, method, tolerance)\u001b[0m\n\u001b[0;32m   3620\u001b[0m \u001b[38;5;28;01mtry\u001b[39;00m:\n\u001b[1;32m-> 3621\u001b[0m     \u001b[38;5;28;01mreturn\u001b[39;00m \u001b[38;5;28;43mself\u001b[39;49m\u001b[38;5;241;43m.\u001b[39;49m\u001b[43m_engine\u001b[49m\u001b[38;5;241;43m.\u001b[39;49m\u001b[43mget_loc\u001b[49m\u001b[43m(\u001b[49m\u001b[43mcasted_key\u001b[49m\u001b[43m)\u001b[49m\n\u001b[0;32m   3622\u001b[0m \u001b[38;5;28;01mexcept\u001b[39;00m \u001b[38;5;167;01mKeyError\u001b[39;00m \u001b[38;5;28;01mas\u001b[39;00m err:\n",
      "File \u001b[1;32mc:\\ProgramData\\Anaconda3\\lib\\site-packages\\pandas\\_libs\\index.pyx:136\u001b[0m, in \u001b[0;36mpandas._libs.index.IndexEngine.get_loc\u001b[1;34m()\u001b[0m\n",
      "File \u001b[1;32mc:\\ProgramData\\Anaconda3\\lib\\site-packages\\pandas\\_libs\\index.pyx:163\u001b[0m, in \u001b[0;36mpandas._libs.index.IndexEngine.get_loc\u001b[1;34m()\u001b[0m\n",
      "File \u001b[1;32mpandas\\_libs\\hashtable_class_helper.pxi:5198\u001b[0m, in \u001b[0;36mpandas._libs.hashtable.PyObjectHashTable.get_item\u001b[1;34m()\u001b[0m\n",
      "File \u001b[1;32mpandas\\_libs\\hashtable_class_helper.pxi:5206\u001b[0m, in \u001b[0;36mpandas._libs.hashtable.PyObjectHashTable.get_item\u001b[1;34m()\u001b[0m\n",
      "\u001b[1;31mKeyError\u001b[0m: 'pred'",
      "\nThe above exception was the direct cause of the following exception:\n",
      "\u001b[1;31mKeyError\u001b[0m                                  Traceback (most recent call last)",
      "Input \u001b[1;32mIn [38]\u001b[0m, in \u001b[0;36m<cell line: 1>\u001b[1;34m()\u001b[0m\n\u001b[1;32m----> 1\u001b[0m results_train\u001b[38;5;241m.\u001b[39mloc[:,\u001b[38;5;124m'\u001b[39m\u001b[38;5;124mcat\u001b[39m\u001b[38;5;124m'\u001b[39m] \u001b[38;5;241m=\u001b[39m \u001b[43mcat1\u001b[49m\u001b[38;5;241;43m.\u001b[39;49m\u001b[43mnew_train\u001b[49m\u001b[38;5;241;43m.\u001b[39;49m\u001b[43mloc\u001b[49m\u001b[43m[\u001b[49m\u001b[43m:\u001b[49m\u001b[43m,\u001b[49m\u001b[38;5;124;43m'\u001b[39;49m\u001b[38;5;124;43mpred\u001b[39;49m\u001b[38;5;124;43m'\u001b[39;49m\u001b[43m]\u001b[49m\n\u001b[0;32m      2\u001b[0m results_test\u001b[38;5;241m.\u001b[39mloc[:,\u001b[38;5;124m'\u001b[39m\u001b[38;5;124mcat\u001b[39m\u001b[38;5;124m'\u001b[39m] \u001b[38;5;241m=\u001b[39m cat1\u001b[38;5;241m.\u001b[39mX_test\u001b[38;5;241m.\u001b[39mloc[:,\u001b[38;5;124m'\u001b[39m\u001b[38;5;124mpred\u001b[39m\u001b[38;5;124m'\u001b[39m]\n",
      "File \u001b[1;32mc:\\ProgramData\\Anaconda3\\lib\\site-packages\\pandas\\core\\indexing.py:961\u001b[0m, in \u001b[0;36m_LocationIndexer.__getitem__\u001b[1;34m(self, key)\u001b[0m\n\u001b[0;32m    959\u001b[0m     \u001b[38;5;28;01mif\u001b[39;00m \u001b[38;5;28mself\u001b[39m\u001b[38;5;241m.\u001b[39m_is_scalar_access(key):\n\u001b[0;32m    960\u001b[0m         \u001b[38;5;28;01mreturn\u001b[39;00m \u001b[38;5;28mself\u001b[39m\u001b[38;5;241m.\u001b[39mobj\u001b[38;5;241m.\u001b[39m_get_value(\u001b[38;5;241m*\u001b[39mkey, takeable\u001b[38;5;241m=\u001b[39m\u001b[38;5;28mself\u001b[39m\u001b[38;5;241m.\u001b[39m_takeable)\n\u001b[1;32m--> 961\u001b[0m     \u001b[38;5;28;01mreturn\u001b[39;00m \u001b[38;5;28;43mself\u001b[39;49m\u001b[38;5;241;43m.\u001b[39;49m\u001b[43m_getitem_tuple\u001b[49m\u001b[43m(\u001b[49m\u001b[43mkey\u001b[49m\u001b[43m)\u001b[49m\n\u001b[0;32m    962\u001b[0m \u001b[38;5;28;01melse\u001b[39;00m:\n\u001b[0;32m    963\u001b[0m     \u001b[38;5;66;03m# we by definition only have the 0th axis\u001b[39;00m\n\u001b[0;32m    964\u001b[0m     axis \u001b[38;5;241m=\u001b[39m \u001b[38;5;28mself\u001b[39m\u001b[38;5;241m.\u001b[39maxis \u001b[38;5;129;01mor\u001b[39;00m \u001b[38;5;241m0\u001b[39m\n",
      "File \u001b[1;32mc:\\ProgramData\\Anaconda3\\lib\\site-packages\\pandas\\core\\indexing.py:1140\u001b[0m, in \u001b[0;36m_LocIndexer._getitem_tuple\u001b[1;34m(self, tup)\u001b[0m\n\u001b[0;32m   1138\u001b[0m \u001b[38;5;28;01mwith\u001b[39;00m suppress(IndexingError):\n\u001b[0;32m   1139\u001b[0m     tup \u001b[38;5;241m=\u001b[39m \u001b[38;5;28mself\u001b[39m\u001b[38;5;241m.\u001b[39m_expand_ellipsis(tup)\n\u001b[1;32m-> 1140\u001b[0m     \u001b[38;5;28;01mreturn\u001b[39;00m \u001b[38;5;28;43mself\u001b[39;49m\u001b[38;5;241;43m.\u001b[39;49m\u001b[43m_getitem_lowerdim\u001b[49m\u001b[43m(\u001b[49m\u001b[43mtup\u001b[49m\u001b[43m)\u001b[49m\n\u001b[0;32m   1142\u001b[0m \u001b[38;5;66;03m# no multi-index, so validate all of the indexers\u001b[39;00m\n\u001b[0;32m   1143\u001b[0m tup \u001b[38;5;241m=\u001b[39m \u001b[38;5;28mself\u001b[39m\u001b[38;5;241m.\u001b[39m_validate_tuple_indexer(tup)\n",
      "File \u001b[1;32mc:\\ProgramData\\Anaconda3\\lib\\site-packages\\pandas\\core\\indexing.py:867\u001b[0m, in \u001b[0;36m_LocationIndexer._getitem_lowerdim\u001b[1;34m(self, tup)\u001b[0m\n\u001b[0;32m    863\u001b[0m \u001b[38;5;28;01mfor\u001b[39;00m i, key \u001b[38;5;129;01min\u001b[39;00m \u001b[38;5;28menumerate\u001b[39m(tup):\n\u001b[0;32m    864\u001b[0m     \u001b[38;5;28;01mif\u001b[39;00m is_label_like(key):\n\u001b[0;32m    865\u001b[0m         \u001b[38;5;66;03m# We don't need to check for tuples here because those are\u001b[39;00m\n\u001b[0;32m    866\u001b[0m         \u001b[38;5;66;03m#  caught by the _is_nested_tuple_indexer check above.\u001b[39;00m\n\u001b[1;32m--> 867\u001b[0m         section \u001b[38;5;241m=\u001b[39m \u001b[38;5;28;43mself\u001b[39;49m\u001b[38;5;241;43m.\u001b[39;49m\u001b[43m_getitem_axis\u001b[49m\u001b[43m(\u001b[49m\u001b[43mkey\u001b[49m\u001b[43m,\u001b[49m\u001b[43m \u001b[49m\u001b[43maxis\u001b[49m\u001b[38;5;241;43m=\u001b[39;49m\u001b[43mi\u001b[49m\u001b[43m)\u001b[49m\n\u001b[0;32m    869\u001b[0m         \u001b[38;5;66;03m# We should never have a scalar section here, because\u001b[39;00m\n\u001b[0;32m    870\u001b[0m         \u001b[38;5;66;03m#  _getitem_lowerdim is only called after a check for\u001b[39;00m\n\u001b[0;32m    871\u001b[0m         \u001b[38;5;66;03m#  is_scalar_access, which that would be.\u001b[39;00m\n\u001b[0;32m    872\u001b[0m         \u001b[38;5;28;01mif\u001b[39;00m section\u001b[38;5;241m.\u001b[39mndim \u001b[38;5;241m==\u001b[39m \u001b[38;5;28mself\u001b[39m\u001b[38;5;241m.\u001b[39mndim:\n\u001b[0;32m    873\u001b[0m             \u001b[38;5;66;03m# we're in the middle of slicing through a MultiIndex\u001b[39;00m\n\u001b[0;32m    874\u001b[0m             \u001b[38;5;66;03m# revise the key wrt to `section` by inserting an _NS\u001b[39;00m\n",
      "File \u001b[1;32mc:\\ProgramData\\Anaconda3\\lib\\site-packages\\pandas\\core\\indexing.py:1202\u001b[0m, in \u001b[0;36m_LocIndexer._getitem_axis\u001b[1;34m(self, key, axis)\u001b[0m\n\u001b[0;32m   1200\u001b[0m \u001b[38;5;66;03m# fall thru to straight lookup\u001b[39;00m\n\u001b[0;32m   1201\u001b[0m \u001b[38;5;28mself\u001b[39m\u001b[38;5;241m.\u001b[39m_validate_key(key, axis)\n\u001b[1;32m-> 1202\u001b[0m \u001b[38;5;28;01mreturn\u001b[39;00m \u001b[38;5;28;43mself\u001b[39;49m\u001b[38;5;241;43m.\u001b[39;49m\u001b[43m_get_label\u001b[49m\u001b[43m(\u001b[49m\u001b[43mkey\u001b[49m\u001b[43m,\u001b[49m\u001b[43m \u001b[49m\u001b[43maxis\u001b[49m\u001b[38;5;241;43m=\u001b[39;49m\u001b[43maxis\u001b[49m\u001b[43m)\u001b[49m\n",
      "File \u001b[1;32mc:\\ProgramData\\Anaconda3\\lib\\site-packages\\pandas\\core\\indexing.py:1153\u001b[0m, in \u001b[0;36m_LocIndexer._get_label\u001b[1;34m(self, label, axis)\u001b[0m\n\u001b[0;32m   1151\u001b[0m \u001b[38;5;28;01mdef\u001b[39;00m \u001b[38;5;21m_get_label\u001b[39m(\u001b[38;5;28mself\u001b[39m, label, axis: \u001b[38;5;28mint\u001b[39m):\n\u001b[0;32m   1152\u001b[0m     \u001b[38;5;66;03m# GH#5667 this will fail if the label is not present in the axis.\u001b[39;00m\n\u001b[1;32m-> 1153\u001b[0m     \u001b[38;5;28;01mreturn\u001b[39;00m \u001b[38;5;28;43mself\u001b[39;49m\u001b[38;5;241;43m.\u001b[39;49m\u001b[43mobj\u001b[49m\u001b[38;5;241;43m.\u001b[39;49m\u001b[43mxs\u001b[49m\u001b[43m(\u001b[49m\u001b[43mlabel\u001b[49m\u001b[43m,\u001b[49m\u001b[43m \u001b[49m\u001b[43maxis\u001b[49m\u001b[38;5;241;43m=\u001b[39;49m\u001b[43maxis\u001b[49m\u001b[43m)\u001b[49m\n",
      "File \u001b[1;32mc:\\ProgramData\\Anaconda3\\lib\\site-packages\\pandas\\core\\generic.py:3849\u001b[0m, in \u001b[0;36mNDFrame.xs\u001b[1;34m(self, key, axis, level, drop_level)\u001b[0m\n\u001b[0;32m   3847\u001b[0m \u001b[38;5;28;01mif\u001b[39;00m axis \u001b[38;5;241m==\u001b[39m \u001b[38;5;241m1\u001b[39m:\n\u001b[0;32m   3848\u001b[0m     \u001b[38;5;28;01mif\u001b[39;00m drop_level:\n\u001b[1;32m-> 3849\u001b[0m         \u001b[38;5;28;01mreturn\u001b[39;00m \u001b[38;5;28;43mself\u001b[39;49m\u001b[43m[\u001b[49m\u001b[43mkey\u001b[49m\u001b[43m]\u001b[49m\n\u001b[0;32m   3850\u001b[0m     index \u001b[38;5;241m=\u001b[39m \u001b[38;5;28mself\u001b[39m\u001b[38;5;241m.\u001b[39mcolumns\n\u001b[0;32m   3851\u001b[0m \u001b[38;5;28;01melse\u001b[39;00m:\n",
      "File \u001b[1;32mc:\\ProgramData\\Anaconda3\\lib\\site-packages\\pandas\\core\\frame.py:3505\u001b[0m, in \u001b[0;36mDataFrame.__getitem__\u001b[1;34m(self, key)\u001b[0m\n\u001b[0;32m   3503\u001b[0m \u001b[38;5;28;01mif\u001b[39;00m \u001b[38;5;28mself\u001b[39m\u001b[38;5;241m.\u001b[39mcolumns\u001b[38;5;241m.\u001b[39mnlevels \u001b[38;5;241m>\u001b[39m \u001b[38;5;241m1\u001b[39m:\n\u001b[0;32m   3504\u001b[0m     \u001b[38;5;28;01mreturn\u001b[39;00m \u001b[38;5;28mself\u001b[39m\u001b[38;5;241m.\u001b[39m_getitem_multilevel(key)\n\u001b[1;32m-> 3505\u001b[0m indexer \u001b[38;5;241m=\u001b[39m \u001b[38;5;28;43mself\u001b[39;49m\u001b[38;5;241;43m.\u001b[39;49m\u001b[43mcolumns\u001b[49m\u001b[38;5;241;43m.\u001b[39;49m\u001b[43mget_loc\u001b[49m\u001b[43m(\u001b[49m\u001b[43mkey\u001b[49m\u001b[43m)\u001b[49m\n\u001b[0;32m   3506\u001b[0m \u001b[38;5;28;01mif\u001b[39;00m is_integer(indexer):\n\u001b[0;32m   3507\u001b[0m     indexer \u001b[38;5;241m=\u001b[39m [indexer]\n",
      "File \u001b[1;32mc:\\ProgramData\\Anaconda3\\lib\\site-packages\\pandas\\core\\indexes\\base.py:3623\u001b[0m, in \u001b[0;36mIndex.get_loc\u001b[1;34m(self, key, method, tolerance)\u001b[0m\n\u001b[0;32m   3621\u001b[0m     \u001b[38;5;28;01mreturn\u001b[39;00m \u001b[38;5;28mself\u001b[39m\u001b[38;5;241m.\u001b[39m_engine\u001b[38;5;241m.\u001b[39mget_loc(casted_key)\n\u001b[0;32m   3622\u001b[0m \u001b[38;5;28;01mexcept\u001b[39;00m \u001b[38;5;167;01mKeyError\u001b[39;00m \u001b[38;5;28;01mas\u001b[39;00m err:\n\u001b[1;32m-> 3623\u001b[0m     \u001b[38;5;28;01mraise\u001b[39;00m \u001b[38;5;167;01mKeyError\u001b[39;00m(key) \u001b[38;5;28;01mfrom\u001b[39;00m \u001b[38;5;21;01merr\u001b[39;00m\n\u001b[0;32m   3624\u001b[0m \u001b[38;5;28;01mexcept\u001b[39;00m \u001b[38;5;167;01mTypeError\u001b[39;00m:\n\u001b[0;32m   3625\u001b[0m     \u001b[38;5;66;03m# If we have a listlike key, _check_indexing_error will raise\u001b[39;00m\n\u001b[0;32m   3626\u001b[0m     \u001b[38;5;66;03m#  InvalidIndexError. Otherwise we fall through and re-raise\u001b[39;00m\n\u001b[0;32m   3627\u001b[0m     \u001b[38;5;66;03m#  the TypeError.\u001b[39;00m\n\u001b[0;32m   3628\u001b[0m     \u001b[38;5;28mself\u001b[39m\u001b[38;5;241m.\u001b[39m_check_indexing_error(key)\n",
      "\u001b[1;31mKeyError\u001b[0m: 'pred'"
     ]
    }
   ],
   "source": [
    "results_train.loc[:,'cat'] = cat1.new_train.loc[:,'pred']\n",
    "results_test.loc[:,'cat'] = cat1.X_test.loc[:,'pred']"
   ]
  },
  {
   "cell_type": "code",
   "execution_count": 44,
   "id": "9c80ccaa",
   "metadata": {
    "execution": {
     "iopub.execute_input": "2024-01-30T22:06:01.195438Z",
     "iopub.status.busy": "2024-01-30T22:06:01.195159Z",
     "iopub.status.idle": "2024-01-30T22:06:01.260044Z",
     "shell.execute_reply": "2024-01-30T22:06:01.259304Z"
    },
    "papermill": {
     "duration": 0.08796,
     "end_time": "2024-01-30T22:06:01.262163",
     "exception": false,
     "start_time": "2024-01-30T22:06:01.174203",
     "status": "completed"
    },
    "tags": []
   },
   "outputs": [],
   "source": [
    "results_train.loc[:,'pred'] = results_train.loc[:,['xgb','lgbm']].mean(axis=1)\n",
    "results_test.loc[:,'pred'] = results_test.loc[:,['xgb','lgbm']].mean(axis=1)"
   ]
  },
  {
   "cell_type": "code",
   "execution_count": 45,
   "id": "dc203b7c",
   "metadata": {
    "execution": {
     "iopub.execute_input": "2024-01-30T22:06:01.305753Z",
     "iopub.status.busy": "2024-01-30T22:06:01.305492Z",
     "iopub.status.idle": "2024-01-30T22:06:01.343501Z",
     "shell.execute_reply": "2024-01-30T22:06:01.342587Z"
    },
    "papermill": {
     "duration": 0.061336,
     "end_time": "2024-01-30T22:06:01.345451",
     "exception": false,
     "start_time": "2024-01-30T22:06:01.284115",
     "status": "completed"
    },
    "tags": []
   },
   "outputs": [
    {
     "name": "stdout",
     "output_type": "stream",
     "text": [
      "Overall AUC Score of all model: 0.8795074915764136\n"
     ]
    }
   ],
   "source": [
    "print(f\"Overall AUC Score of all model: {auc(results_train.loc[:,'Exited'], results_train.loc[:,'pred'])}\")"
   ]
  },
  {
   "cell_type": "code",
   "execution_count": 46,
   "id": "62832ba0",
   "metadata": {
    "execution": {
     "iopub.execute_input": "2024-01-30T22:06:01.388105Z",
     "iopub.status.busy": "2024-01-30T22:06:01.387800Z",
     "iopub.status.idle": "2024-01-30T22:06:01.436751Z",
     "shell.execute_reply": "2024-01-30T22:06:01.435976Z"
    },
    "papermill": {
     "duration": 0.072345,
     "end_time": "2024-01-30T22:06:01.438755",
     "exception": false,
     "start_time": "2024-01-30T22:06:01.366410",
     "status": "completed"
    },
    "tags": []
   },
   "outputs": [],
   "source": [
    "sub = pd.read_csv(\"../data/sample_submission.csv\")"
   ]
  },
  {
   "cell_type": "code",
   "execution_count": 47,
   "id": "c51efbb0",
   "metadata": {
    "execution": {
     "iopub.execute_input": "2024-01-30T22:06:01.481700Z",
     "iopub.status.busy": "2024-01-30T22:06:01.481403Z",
     "iopub.status.idle": "2024-01-30T22:06:01.490248Z",
     "shell.execute_reply": "2024-01-30T22:06:01.489421Z"
    },
    "papermill": {
     "duration": 0.032413,
     "end_time": "2024-01-30T22:06:01.492092",
     "exception": false,
     "start_time": "2024-01-30T22:06:01.459679",
     "status": "completed"
    },
    "tags": []
   },
   "outputs": [
    {
     "data": {
      "text/html": [
       "<div>\n",
       "<style scoped>\n",
       "    .dataframe tbody tr th:only-of-type {\n",
       "        vertical-align: middle;\n",
       "    }\n",
       "\n",
       "    .dataframe tbody tr th {\n",
       "        vertical-align: top;\n",
       "    }\n",
       "\n",
       "    .dataframe thead th {\n",
       "        text-align: right;\n",
       "    }\n",
       "</style>\n",
       "<table border=\"1\" class=\"dataframe\">\n",
       "  <thead>\n",
       "    <tr style=\"text-align: right;\">\n",
       "      <th></th>\n",
       "      <th>id</th>\n",
       "      <th>Exited</th>\n",
       "    </tr>\n",
       "  </thead>\n",
       "  <tbody>\n",
       "    <tr>\n",
       "      <th>0</th>\n",
       "      <td>165034</td>\n",
       "      <td>0.5</td>\n",
       "    </tr>\n",
       "    <tr>\n",
       "      <th>1</th>\n",
       "      <td>165035</td>\n",
       "      <td>0.5</td>\n",
       "    </tr>\n",
       "    <tr>\n",
       "      <th>2</th>\n",
       "      <td>165036</td>\n",
       "      <td>0.5</td>\n",
       "    </tr>\n",
       "    <tr>\n",
       "      <th>3</th>\n",
       "      <td>165037</td>\n",
       "      <td>0.5</td>\n",
       "    </tr>\n",
       "    <tr>\n",
       "      <th>4</th>\n",
       "      <td>165038</td>\n",
       "      <td>0.5</td>\n",
       "    </tr>\n",
       "  </tbody>\n",
       "</table>\n",
       "</div>"
      ],
      "text/plain": [
       "       id  Exited\n",
       "0  165034     0.5\n",
       "1  165035     0.5\n",
       "2  165036     0.5\n",
       "3  165037     0.5\n",
       "4  165038     0.5"
      ]
     },
     "execution_count": 47,
     "metadata": {},
     "output_type": "execute_result"
    }
   ],
   "source": [
    "sub.head()"
   ]
  },
  {
   "cell_type": "code",
   "execution_count": 48,
   "id": "9455b83d",
   "metadata": {
    "execution": {
     "iopub.execute_input": "2024-01-30T22:06:01.534351Z",
     "iopub.status.busy": "2024-01-30T22:06:01.534076Z",
     "iopub.status.idle": "2024-01-30T22:06:01.539083Z",
     "shell.execute_reply": "2024-01-30T22:06:01.538233Z"
    },
    "papermill": {
     "duration": 0.028031,
     "end_time": "2024-01-30T22:06:01.540975",
     "exception": false,
     "start_time": "2024-01-30T22:06:01.512944",
     "status": "completed"
    },
    "tags": []
   },
   "outputs": [],
   "source": [
    "sub.loc[:,'Exited']= results_test.loc[:,'pred']"
   ]
  },
  {
   "cell_type": "code",
   "execution_count": 49,
   "id": "7d95307b",
   "metadata": {
    "execution": {
     "iopub.execute_input": "2024-01-30T22:06:01.582672Z",
     "iopub.status.busy": "2024-01-30T22:06:01.582415Z",
     "iopub.status.idle": "2024-01-30T22:06:01.590444Z",
     "shell.execute_reply": "2024-01-30T22:06:01.589651Z"
    },
    "papermill": {
     "duration": 0.03119,
     "end_time": "2024-01-30T22:06:01.592390",
     "exception": false,
     "start_time": "2024-01-30T22:06:01.561200",
     "status": "completed"
    },
    "tags": []
   },
   "outputs": [
    {
     "data": {
      "text/html": [
       "<div>\n",
       "<style scoped>\n",
       "    .dataframe tbody tr th:only-of-type {\n",
       "        vertical-align: middle;\n",
       "    }\n",
       "\n",
       "    .dataframe tbody tr th {\n",
       "        vertical-align: top;\n",
       "    }\n",
       "\n",
       "    .dataframe thead th {\n",
       "        text-align: right;\n",
       "    }\n",
       "</style>\n",
       "<table border=\"1\" class=\"dataframe\">\n",
       "  <thead>\n",
       "    <tr style=\"text-align: right;\">\n",
       "      <th></th>\n",
       "      <th>id</th>\n",
       "      <th>Exited</th>\n",
       "    </tr>\n",
       "  </thead>\n",
       "  <tbody>\n",
       "    <tr>\n",
       "      <th>0</th>\n",
       "      <td>165034</td>\n",
       "      <td>0.095856</td>\n",
       "    </tr>\n",
       "    <tr>\n",
       "      <th>1</th>\n",
       "      <td>165035</td>\n",
       "      <td>0.744154</td>\n",
       "    </tr>\n",
       "    <tr>\n",
       "      <th>2</th>\n",
       "      <td>165036</td>\n",
       "      <td>0.112034</td>\n",
       "    </tr>\n",
       "    <tr>\n",
       "      <th>3</th>\n",
       "      <td>165037</td>\n",
       "      <td>0.288482</td>\n",
       "    </tr>\n",
       "    <tr>\n",
       "      <th>4</th>\n",
       "      <td>165038</td>\n",
       "      <td>0.468518</td>\n",
       "    </tr>\n",
       "  </tbody>\n",
       "</table>\n",
       "</div>"
      ],
      "text/plain": [
       "       id    Exited\n",
       "0  165034  0.095856\n",
       "1  165035  0.744154\n",
       "2  165036  0.112034\n",
       "3  165037  0.288482\n",
       "4  165038  0.468518"
      ]
     },
     "execution_count": 49,
     "metadata": {},
     "output_type": "execute_result"
    }
   ],
   "source": [
    "sub.head()"
   ]
  },
  {
   "cell_type": "code",
   "execution_count": 50,
   "id": "68ed1169",
   "metadata": {
    "execution": {
     "iopub.execute_input": "2024-01-30T22:06:01.635231Z",
     "iopub.status.busy": "2024-01-30T22:06:01.634992Z",
     "iopub.status.idle": "2024-01-30T22:06:01.941023Z",
     "shell.execute_reply": "2024-01-30T22:06:01.940247Z"
    },
    "papermill": {
     "duration": 0.3302,
     "end_time": "2024-01-30T22:06:01.943158",
     "exception": false,
     "start_time": "2024-01-30T22:06:01.612958",
     "status": "completed"
    },
    "tags": []
   },
   "outputs": [],
   "source": [
    "sub.to_csv(\"submission.csv\", index=False)"
   ]
  },
  {
   "cell_type": "code",
   "execution_count": null,
   "id": "e651380c",
   "metadata": {
    "papermill": {
     "duration": 0.020766,
     "end_time": "2024-01-30T22:06:01.985527",
     "exception": false,
     "start_time": "2024-01-30T22:06:01.964761",
     "status": "completed"
    },
    "tags": []
   },
   "outputs": [],
   "source": []
  }
 ],
 "metadata": {
  "kaggle": {
   "accelerator": "gpu",
   "dataSources": [
    {
     "databundleVersionId": 7405009,
     "sourceId": 65711,
     "sourceType": "competition"
    }
   ],
   "dockerImageVersionId": 30648,
   "isGpuEnabled": true,
   "isInternetEnabled": true,
   "language": "python",
   "sourceType": "notebook"
  },
  "kernelspec": {
   "display_name": "Python 3",
   "language": "python",
   "name": "python3"
  },
  "language_info": {
   "codemirror_mode": {
    "name": "ipython",
    "version": 3
   },
   "file_extension": ".py",
   "mimetype": "text/x-python",
   "name": "python",
   "nbconvert_exporter": "python",
   "pygments_lexer": "ipython3",
   "version": "3.9.12"
  },
  "papermill": {
   "default_parameters": {},
   "duration": 130.748477,
   "end_time": "2024-01-30T22:06:02.826526",
   "environment_variables": {},
   "exception": null,
   "input_path": "__notebook__.ipynb",
   "output_path": "__notebook__.ipynb",
   "parameters": {},
   "start_time": "2024-01-30T22:03:52.078049",
   "version": "2.5.0"
  }
 },
 "nbformat": 4,
 "nbformat_minor": 5
}
